{
 "cells": [
  {
   "attachments": {},
   "cell_type": "markdown",
   "metadata": {},
   "source": [
    "### Visualization for self-reports ###"
   ]
  },
  {
   "cell_type": "code",
   "execution_count": 2,
   "metadata": {},
   "outputs": [],
   "source": [
    "# IMPORTING MODULES\n",
    "import glob\n",
    "import importlib\n",
    "import matplotlib.pyplot as plt\n",
    "import numpy as np\n",
    "import os\n",
    "import pandas as pd\n",
    "import scipy.signal as ss\n",
    "import seaborn as sb\n",
    "import sys\n",
    "module_path = os.path.abspath(os.path.join('..', '..', 'src'))\n",
    "sys.path.append(module_path)\n",
    "import tools.data_reader_apd as dr_a\n",
    "import tools.data_reader_ascertain as dr_asc\n",
    "import tools.data_reader_case as dr_c\n",
    "import tools.data_reader_wesad as dr_w\n",
    "import tools.data_reader_popane as dr_p\n",
    "import tools.display_tools as dt\n",
    "import train"
   ]
  },
  {
   "attachments": {},
   "cell_type": "markdown",
   "metadata": {},
   "source": [
    "## APD "
   ]
  },
  {
   "cell_type": "code",
   "execution_count": 18,
   "metadata": {},
   "outputs": [
    {
     "name": "stderr",
     "output_type": "stream",
     "text": [
      "In a future version, DataFrame.mean(axis=None) will return a scalar mean over the entire DataFrame. To retain the old behavior, use 'frame.mean(axis=0)' or just 'frame.mean()'\n"
     ]
    }
   ],
   "source": [
    "# APD\n",
    "importlib.reload(dr_a)\n",
    "importlib.reload(train)\n",
    "\n",
    "threshold = \"fixed\"\n",
    "participant_file = os.path.join(dr_a.Paths.DATA_DIR, \"participants_details.csv\")\n",
    "df = pd.read_csv(participant_file)\n",
    "labels = [\n",
    "    \"Baseline_SUDS\", \"BugBox_Relax_SUDS\", \"BugBox_Preparation_SUDS\", \"BugBox_Exposure_SUDS\", \"BugBox_Exposure_SUDS\", \n",
    "    \"Speech_Relax_SUDS\", \"Speech_SUDS\", \"Speech_Exposure_SUDS\", \"Speech_Break_SUDS\"\n",
    "]\n",
    "suds_labels = df.loc[:, [\"Participant\"] + labels]\n",
    "mean_suds = np.mean(suds_labels.loc[:, labels])\n",
    "\n",
    "ha_suds_df = suds_labels.loc[suds_labels['Participant'].isin(dr_a.Groups.ha_participant_indices)]\n",
    "la_suds_df = suds_labels.loc[suds_labels['Participant'].isin(dr_a.Groups.la_participant_indices)]"
   ]
  },
  {
   "cell_type": "code",
   "execution_count": null,
   "metadata": {},
   "outputs": [],
   "source": [
    "fig, axs = plt.subplots(7, 4, sharex=True, sharey=True)\n",
    "fig.set_size_inches(12, 12)\n",
    "idx = 0\n",
    "for i in range(7):\n",
    "    for j in range(4):\n",
    "        try:\n",
    "            sb.histplot(ax=axs[i, j], data=ha_suds_df[labels].iloc[idx], stat=\"count\", binwidth=10, binrange=[0, 100])\n",
    "            # axs[i][j].hist(ha_suds_df[labels].iloc[idx], bins=list(range(0, 100, 10)))\n",
    "            # axs[i][j].set_title(ha_suds_df[\"Participant\"].iloc[idx], fontdict={\"fontsize\": 8})\n",
    "        except Exception as e:\n",
    "            continue\n",
    "        idx += 1\n",
    "print(\"APD self-reports -- high trait anxiety group\")\n",
    "fig.show()\n",
    "\n",
    "fig2, axs2 = plt.subplots(7, 4, sharex=True, sharey=True)\n",
    "fig2.set_size_inches(12, 12)\n",
    "idx = 0\n",
    "for i in range(7):\n",
    "    for j in range(4):\n",
    "        try:\n",
    "            sb.histplot(ax=axs2[i, j], data=la_suds_df[labels].iloc[idx], stat=\"count\", binwidth=10, binrange=[0, 100])\n",
    "            # axs2[i][j].hist(la_suds_df[labels].iloc[idx], bins=list(range(0, 100, 10)))\n",
    "            # axs2[i][j].set_title(la_suds_df[\"Participant\"].iloc[idx], fontdict={\"fontsize\": 8})\n",
    "        except Exception as e:\n",
    "            continue\n",
    "        idx += 1\n",
    "print(\"APD self-reports -- low trait anxiety group\")\n",
    "fig2.show()"
   ]
  },
  {
   "attachments": {},
   "cell_type": "markdown",
   "metadata": {},
   "source": [
    "## WESAD"
   ]
  },
  {
   "cell_type": "code",
   "execution_count": null,
   "metadata": {},
   "outputs": [],
   "source": [
    "# WESAD\n",
    "importlib.reload(dr_w)\n",
    "importlib.reload(train)\n",
    "\n",
    "stai_labels = dr_w.get_stai_scores()\n",
    "labels = [\n",
    "    \"Base_STAI\", \"TSST_STAI\", \"Medi_1_STAI\", \"Fun_STAI\", \"Medi_2_STAI\"\n",
    "]\n",
    "fig, axs = plt.subplots(5, 3, sharex=True, sharey=True)\n",
    "fig.set_size_inches(12, 12)\n",
    "idx = 0\n",
    "for i in range(7):\n",
    "    for j in range(4):\n",
    "        try:\n",
    "            sb.histplot(ax=axs[i, j], data=stai_labels[labels].iloc[idx], stat=\"count\", binwidth=10, binrange=[20, 80])\n",
    "            # axs[i][j].hist(stai_labels[labels].iloc[idx], bins=list(range(20, 80, 10)))\n",
    "            axs[i][j].set_title(f\"P{stai_labels['subject'].iloc[idx]}\", fontdict={\"fontsize\": 8})\n",
    "        except Exception as e:\n",
    "            continue\n",
    "        idx += 1\n",
    "print(\"WESAD self-reports\")\n",
    "fig.show()"
   ]
  },
  {
   "attachments": {},
   "cell_type": "markdown",
   "metadata": {},
   "source": [
    "## ASCERTAIN"
   ]
  },
  {
   "cell_type": "code",
   "execution_count": null,
   "metadata": {},
   "outputs": [],
   "source": [
    "# ASCERTAIN\n",
    "importlib.reload(dr_asc)\n",
    "importlib.reload(train)\n",
    "\n",
    "self_reports = dr_asc.get_self_reports(dr_asc.SelfReports.AROUSAL)\n",
    "self_reports = self_reports.drop(labels=\"subject\", axis=1)\n",
    "labels = []\n",
    "for c in range(self_reports.shape[1]):\n",
    "    labels += self_reports.iloc[:, c].tolist()\n",
    "labels = pd.DataFrame(data=labels)\n",
    "\n",
    "fig = plt.figure()\n",
    "axs = plt.axes()\n",
    "\n",
    "sb.histplot(ax=axs, data=labels, stat=\"count\", binwidth=1, binrange=[0, 6])\n",
    "axs.set_title(\"ASCERTAIN arousal labels\", fontdict={\"fontsize\": 12})\n",
    "\n",
    "fig.show()"
   ]
  },
  {
   "attachments": {},
   "cell_type": "markdown",
   "metadata": {},
   "source": [
    "## CASE"
   ]
  },
  {
   "cell_type": "code",
   "execution_count": 5,
   "metadata": {},
   "outputs": [
    {
     "name": "stderr",
     "output_type": "stream",
     "text": [
      "Matplotlib is currently using module://matplotlib_inline.backend_inline, which is a non-GUI backend, so cannot show the figure.\n"
     ]
    },
    {
     "data": {
      "image/png": "[encoded data removed]",
      "text/plain": [
       "<Figure size 640x480 with 1 Axes>"
      ]
     },
     "metadata": {},
     "output_type": "display_data"
    }
   ],
   "source": [
    "# CASE\n",
    "importlib.reload(dr_asc)\n",
    "importlib.reload(train)\n",
    "\n",
    "self_reports = dr_c.get_self_reports(dr_c.SelfReports.VALENCE)\n",
    "self_reports = self_reports.drop(labels=\"subject\", axis=1)\n",
    "labels = []\n",
    "for c in range(self_reports.shape[1]):\n",
    "    labels += self_reports.iloc[:, c].tolist()\n",
    "labels = pd.DataFrame(data=labels)\n",
    "\n",
    "fig = plt.figure()\n",
    "axs = plt.axes()\n",
    "\n",
    "sb.histplot(ax=axs, data=labels, stat=\"count\", binwidth=1, binrange=[0, 6])\n",
    "axs.set_title(\"CASE valence labels\", fontdict={\"fontsize\": 12})\n",
    "\n",
    "fig.show()"
   ]
  },
  {
   "attachments": {},
   "cell_type": "markdown",
   "metadata": {},
   "source": [
    "## POPANE"
   ]
  },
  {
   "cell_type": "code",
   "execution_count": null,
   "metadata": {},
   "outputs": [],
   "source": [
    "# POPANE\n",
    "importlib.reload(dr_p)\n",
    "importlib.reload(train)\n",
    "\n",
    "studies = list(range(1, 8))\n",
    "for study in studies:\n",
    "    study = f\"Study{study}\"\n",
    "    self_report_df = pd.read_csv(os.path.join(dr_p.Paths.METRICS, study, \"self_reports.csv\"), index_col=0)\n",
    "    labels = self_report_df.columns[1:]\n",
    "    fig, axs = plt.subplots(5, 3, sharex=True, sharey=True)\n",
    "    fig.set_size_inches(9, 9)\n",
    "    idx = 0\n",
    "    for i in range(7):\n",
    "        for j in range(4):\n",
    "            try:\n",
    "                sb.histplot(ax=axs[i, j], data=self_report_df[labels].iloc[idx], stat=\"count\", binwidth=1, binrange=[0, 10])\n",
    "                # axs[i][j].hist(self_report_df[labels].iloc[idx], bins=list(range(0, 10, 1)))\n",
    "                axs[i][j].set_title(self_report_df[\"subject\"].iloc[idx], fontdict={\"fontsize\": 8})\n",
    "                # axs[i][j].set_yticks(list(range(0, 7, 2)))\n",
    "            except Exception as e:\n",
    "                continue\n",
    "            idx += 1\n",
    "    print(f\"POPANE Study {study[-1]} self-reports\")\n",
    "    fig.show()"
   ]
  },
  {
   "attachments": {},
   "cell_type": "markdown",
   "metadata": {},
   "source": [
    "## Visualizing labels"
   ]
  },
  {
   "cell_type": "code",
   "execution_count": 150,
   "metadata": {},
   "outputs": [],
   "source": [
    "importlib.reload(train)\n",
    "importlib.reload(dr_a)\n",
    "importlib.reload(dr_w)\n",
    "importlib.reload(dr_p)\n",
    "\n",
    "apd_suds_labels = dr_a.get_suds_labels(threshold=threshold)\n",
    "wesad_stai_labels = dr_w.get_stai_labels(threshold=threshold)\n",
    "popane_affect_labels = {\n",
    "    \"Study1\": [],\n",
    "    \"Study2\": [],\n",
    "    \"Study3\": [],\n",
    "    \"Study4\": [],\n",
    "    \"Study5\": [],\n",
    "    \"Study6\": [],\n",
    "    \"Study7\": []\n",
    "}\n",
    "\n",
    "popane_phases = {\n",
    "    \"Study1\": dr_p.Study1.ALL,\n",
    "    \"Study2\": dr_p.Study2.ALL,\n",
    "    \"Study3\": dr_p.Study3.ALL,\n",
    "    \"Study4\": dr_p.Study4.ALL,\n",
    "    \"Study5\": dr_p.Study5.ALL,\n",
    "    \"Study6\": dr_p.Study6.ALL,\n",
    "    \"Study7\": dr_p.Study7.ALL\n",
    "}\n",
    "\n",
    "for study in popane_affect_labels.keys():\n",
    "    popane_affect_labels[study] = dr_p.get_affect_labels(study, popane_phases[study], threshold=threshold)"
   ]
  },
  {
   "cell_type": "code",
   "execution_count": 201,
   "metadata": {},
   "outputs": [
    {
     "name": "stdout",
     "output_type": "stream",
     "text": [
      "SELF-REPORTS\n",
      "Empty DataFrame\n",
      "Columns: [subject, Anger1, Anger2, Anger3, Neutral1, Neutral6, Neutral7, Amusement2, Amusement3, Amusement4]\n",
      "Index: []\n",
      "     subject  phaseId       bpm     rmssd     hf_rr     lf_rr       ibi  \\\n",
      "592    295.0        8  0.558796  0.331706  0.000071  0.000071  0.282630   \n",
      "593    297.0        8  0.327605  0.102485  0.008411  0.008437  0.391457   \n",
      "\n",
      "         sdnn  mean_SCL  SCR_rate  \n",
      "592  0.424319  0.111713  0.291391  \n",
      "593  0.363321  0.057413  0.145695  \n",
      "     subject  label\n",
      "592    295.0    NaN\n",
      "593    297.0    NaN\n"
     ]
    }
   ],
   "source": [
    "importlib.reload(train)\n",
    "\n",
    "metrics = [\n",
    "    train.Metrics.BPM, \n",
    "    train.Metrics.RMSSD, \n",
    "    train.Metrics.HF_RR, \n",
    "    train.Metrics.LF_RR, \n",
    "    train.Metrics.IBI, \n",
    "    train.Metrics.SDNN, \n",
    "    train.Metrics.MEAN_SCL, \n",
    "    train.Metrics.SCR_RATE\n",
    "]\n",
    "\n",
    "study = \"Study5\"\n",
    "x, y = train.Train_POPANE.get_popane_data(study, metrics, popane_phases[study])\n",
    "nan_idx = y.index[y[\"label\"].isnull()]\n",
    "print(x.iloc[nan_idx, :])\n",
    "print(y.iloc[nan_idx, :])"
   ]
  }
 ],
 "metadata": {
  "kernelspec": {
   "display_name": "Python 3",
   "language": "python",
   "name": "python3"
  },
  "language_info": {
   "codemirror_mode": {
    "name": "ipython",
    "version": 3
   },
   "file_extension": ".py",
   "mimetype": "text/x-python",
   "name": "python",
   "nbconvert_exporter": "python",
   "pygments_lexer": "ipython3",
   "version": "3.7.9"
  },
  "orig_nbformat": 4
 },
 "nbformat": 4,
 "nbformat_minor": 2
}
