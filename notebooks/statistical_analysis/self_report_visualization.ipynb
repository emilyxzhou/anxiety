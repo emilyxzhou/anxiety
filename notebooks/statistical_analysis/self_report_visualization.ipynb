{
 "cells": [
  {
   "attachments": {},
   "cell_type": "markdown",
   "metadata": {},
   "source": [
    "### Visualization fo self-reports ###"
   ]
  },
  {
   "cell_type": "code",
   "execution_count": 1,
   "metadata": {},
   "outputs": [
    {
     "name": "stderr",
     "output_type": "stream",
     "text": [
      "c:\\Users\\zhoux\\AppData\\Local\\Programs\\Python\\Python310\\lib\\site-packages\\tqdm\\auto.py:22: TqdmWarning: IProgress not found. Please update jupyter and ipywidgets. See https://ipywidgets.readthedocs.io/en/stable/user_install.html\n",
      "  from .autonotebook import tqdm as notebook_tqdm\n"
     ]
    }
   ],
   "source": [
    "# IMPORTING MODULES\n",
    "import glob\n",
    "import importlib\n",
    "import matplotlib.pyplot as plt\n",
    "import numpy as np\n",
    "import os\n",
    "import pandas as pd\n",
    "import scipy.signal as ss\n",
    "import sys\n",
    "module_path = os.path.abspath(os.path.join('..', '..', 'src'))\n",
    "sys.path.append(module_path)\n",
    "import tools.data_reader_apd as dr_a\n",
    "import tools.data_reader_wesad as dr_w\n",
    "import tools.data_reader_popane as dr_p\n",
    "import tools.display_tools as dt\n",
    "import train"
   ]
  },
  {
   "attachments": {},
   "cell_type": "markdown",
   "metadata": {},
   "source": [
    "### APD "
   ]
  },
  {
   "cell_type": "code",
   "execution_count": 15,
   "metadata": {},
   "outputs": [
    {
     "name": "stdout",
     "output_type": "stream",
     "text": [
      "(26, 10)\n",
      "(26, 10)\n"
     ]
    },
    {
     "name": "stderr",
     "output_type": "stream",
     "text": [
      "In a future version, DataFrame.mean(axis=None) will return a scalar mean over the entire DataFrame. To retain the old behavior, use 'frame.mean(axis=0)' or just 'frame.mean()'\n"
     ]
    }
   ],
   "source": [
    "# APD\n",
    "importlib.reload(dr_a)\n",
    "importlib.reload(train)\n",
    "\n",
    "\n",
    "threshold = \"fixed\"\n",
    "participant_file = os.path.join(dr_a.Paths.DATA_DIR, \"participants_details.csv\")\n",
    "df = pd.read_csv(participant_file)\n",
    "labels = [\n",
    "    \"Baseline_SUDS\", \"BugBox_Relax_SUDS\", \"BugBox_Preparation_SUDS\", \"BugBox_Exposure_SUDS\", \"BugBox_Exposure_SUDS\", \n",
    "    \"Speech_Relax_SUDS\", \"Speech_SUDS\", \"Speech_Exposure_SUDS\", \"Speech_Break_SUDS\"\n",
    "]\n",
    "suds_labels = df.loc[:, [\"Participant\"] + labels]\n",
    "mean_suds = np.mean(suds_labels.loc[:, labels])\n",
    "\n",
    "ha_suds_df = suds_labels.loc[suds_labels['Participant'].isin(dr_a.Groups.ha_participant_indices)]\n",
    "la_suds_df = suds_labels.loc[suds_labels['Participant'].isin(dr_a.Groups.la_participant_indices)]"
   ]
  },
  {
   "cell_type": "code",
   "execution_count": null,
   "metadata": {},
   "outputs": [],
   "source": [
    "fig, axs = plt.subplots(7, 4, sharex=True, sharey=True, )\n",
    "fig.set_size_inches(12, 12)\n",
    "idx = 0\n",
    "for i in range(7):\n",
    "    for j in range(4):\n",
    "        try:\n",
    "            axs[i][j].hist(ha_suds_df[labels].iloc[idx], bins=list(range(0, 100, 10)))\n",
    "            axs[i][j].set_title(ha_suds_df[\"Participant\"].iloc[idx], fontdict={\"fontsize\": 8})\n",
    "        except Exception as e:\n",
    "            continue\n",
    "        idx += 1\n",
    "print(\"APD self-reports -- high trait anxiety group\")\n",
    "fig.show()\n",
    "\n",
    "fig2, axs2 = plt.subplots(7, 4, sharex=True, sharey=True, )\n",
    "fig2.set_size_inches(12, 12)\n",
    "idx = 0\n",
    "for i in range(7):\n",
    "    for j in range(4):\n",
    "        try:\n",
    "            axs2[i][j].hist(la_suds_df[labels].iloc[idx], bins=list(range(0, 100, 10)))\n",
    "            axs2[i][j].set_title(la_suds_df[\"Participant\"].iloc[idx], fontdict={\"fontsize\": 8})\n",
    "        except Exception as e:\n",
    "            continue\n",
    "        idx += 1\n",
    "print(\"APD self-reports -- low trait anxiety group\")\n",
    "fig2.show()"
   ]
  },
  {
   "attachments": {},
   "cell_type": "markdown",
   "metadata": {},
   "source": [
    "## WESAD"
   ]
  },
  {
   "cell_type": "code",
   "execution_count": null,
   "metadata": {},
   "outputs": [],
   "source": [
    "# WESAD\n",
    "importlib.reload(dr_w)\n",
    "importlib.reload(train)\n",
    "\n",
    "stai_labels = dr_w.get_stai_scores()\n",
    "labels = [\n",
    "    \"Base_STAI\", \"TSST_STAI\", \"Medi_1_STAI\", \"Fun_STAI\", \"Medi_2_STAI\"\n",
    "]\n",
    "fig, axs = plt.subplots(5, 3, sharex=True, sharey=True, )\n",
    "fig.set_size_inches(12, 12)\n",
    "idx = 0\n",
    "for i in range(7):\n",
    "    for j in range(4):\n",
    "        try:\n",
    "            axs[i][j].hist(stai_labels[labels].iloc[idx], bins=list(range(20, 80, 10)))\n",
    "            axs[i][j].set_title(stai_labels[\"subject\"].iloc[idx], fontdict={\"fontsize\": 8})\n",
    "        except Exception as e:\n",
    "            continue\n",
    "        idx += 1\n",
    "print(\"WESAD self-reports\")\n",
    "fig.show()"
   ]
  },
  {
   "attachments": {},
   "cell_type": "markdown",
   "metadata": {},
   "source": [
    "## POPANE"
   ]
  },
  {
   "cell_type": "code",
   "execution_count": 32,
   "metadata": {},
   "outputs": [
    {
     "name": "stdout",
     "output_type": "stream",
     "text": [
      "     subject  Baseline  Positive_Emotion_High_Approach    Threat  Neutral8\n",
      "0          1  3.162839                        9.724535  6.009617       NaN\n",
      "1          2  7.499973                             NaN  7.499733  4.451287\n",
      "2          3  3.288628                        7.092842  2.999893       NaN\n",
      "3          4  8.599968                             NaN  7.617826  7.865494\n",
      "4          5  7.534442                             NaN  6.703169       NaN\n",
      "..       ...       ...                             ...       ...       ...\n",
      "137      138  5.692099                             NaN  7.199743       NaN\n",
      "138      139  4.204610                             NaN  5.721789  3.263222\n",
      "139      140  8.499970                             NaN  7.504080  3.951382\n",
      "140      141  4.923004                             NaN  5.817113  3.950656\n",
      "141      142  6.199978                             NaN  7.610079  5.570995\n",
      "\n",
      "[142 rows x 5 columns]\n"
     ]
    }
   ],
   "source": [
    "# POPANE\n",
    "importlib.reload(dr_p)\n",
    "importlib.reload(train)\n",
    "\n",
    "study = \"Study1\"\n",
    "\n",
    "self_report_df = pd.read_csv(os.path.join(dr_p.Paths.METRICS, study, \"self_reports.csv\"), index_col=0)\n",
    "# for i in range(self_report_df.shape[0]):\n",
    "#     row = self_report_df.loc[self_report_df[\"subject\"] == 1, :].iloc[:, 1:].replace(-1, np.NaN)\n",
    "affect_labels = self_report_df.replace(-1, np.NaN)\n",
    "print(affect_labels)"
   ]
  }
 ],
 "metadata": {
  "kernelspec": {
   "display_name": "Python 3",
   "language": "python",
   "name": "python3"
  },
  "language_info": {
   "codemirror_mode": {
    "name": "ipython",
    "version": 3
   },
   "file_extension": ".py",
   "mimetype": "text/x-python",
   "name": "python",
   "nbconvert_exporter": "python",
   "pygments_lexer": "ipython3",
   "version": "3.10.9"
  },
  "orig_nbformat": 4
 },
 "nbformat": 4,
 "nbformat_minor": 2
}
