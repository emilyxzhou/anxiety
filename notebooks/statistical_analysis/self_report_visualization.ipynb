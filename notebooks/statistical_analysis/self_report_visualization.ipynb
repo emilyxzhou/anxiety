{
 "cells": [
  {
   "attachments": {},
   "cell_type": "markdown",
   "metadata": {},
   "source": [
    "### Visualization fo self-reports ###"
   ]
  },
  {
   "cell_type": "code",
   "execution_count": 1,
   "metadata": {},
   "outputs": [
    {
     "name": "stderr",
     "output_type": "stream",
     "text": [
      "c:\\Users\\zhoux\\AppData\\Local\\Programs\\Python\\Python310\\lib\\site-packages\\tqdm\\auto.py:22: TqdmWarning: IProgress not found. Please update jupyter and ipywidgets. See https://ipywidgets.readthedocs.io/en/stable/user_install.html\n",
      "  from .autonotebook import tqdm as notebook_tqdm\n"
     ]
    }
   ],
   "source": [
    "# IMPORTING MODULES\n",
    "import glob\n",
    "import importlib\n",
    "import matplotlib.pyplot as plt\n",
    "import numpy as np\n",
    "import os\n",
    "import pandas as pd\n",
    "import scipy.signal as ss\n",
    "import sys\n",
    "module_path = os.path.abspath(os.path.join('..', '..', 'src'))\n",
    "sys.path.append(module_path)\n",
    "import tools.data_reader_apd as dr_a\n",
    "import tools.data_reader_wesad as dr_w\n",
    "import tools.data_reader_popane as dr_p\n",
    "import tools.display_tools as dt\n",
    "import train"
   ]
  },
  {
   "cell_type": "code",
   "execution_count": 8,
   "metadata": {},
   "outputs": [
    {
     "name": "stdout",
     "output_type": "stream",
     "text": [
      "   Participant  Baseline_SUDS  BugBox_Relax_SUDS  BugBox_Preparation_SUDS  \\\n",
      "3           P4             20                  0                       30   \n",
      "5           P6             20                  0                       10   \n",
      "6           P7             20                  0                       30   \n",
      "7           P8             20                  0                       20   \n",
      "9          P10             10                  0                        0   \n",
      "11         P12             70                 10                       60   \n",
      "14         P15             10                 10                       40   \n",
      "15         P16              0                  0                       80   \n",
      "17         P18             40                 10                       20   \n",
      "21         P22             30                 10                       40   \n",
      "25         P26              0                  0                       10   \n",
      "26         P27             40                  0                       70   \n",
      "28         P29             30                  0                       10   \n",
      "30         P31             40                 80                       10   \n",
      "31         P32             40                 20                       30   \n",
      "32         P33             20                 30                       80   \n",
      "34         P35             10                  0                        0   \n",
      "41         P42             10                  0                       10   \n",
      "44         P45              0                  0                       30   \n",
      "46         P47             20                 20                       40   \n",
      "47         P48             70                 10                       60   \n",
      "48         P49             20                 10                       30   \n",
      "53         P54             10                 10                       50   \n",
      "54         P55             20                  0                       40   \n",
      "65         P66             30                 20                       30   \n",
      "68         P69             20                 10                       20   \n",
      "\n",
      "    BugBox_Exposure_SUDS  BugBox_Exposure_SUDS  Speech_Relax_SUDS  \\\n",
      "3                     20                    20                  0   \n",
      "5                     20                    20                  0   \n",
      "6                     40                    40                 10   \n",
      "7                     10                    10                  0   \n",
      "9                     10                    10                  0   \n",
      "11                    80                    80                 10   \n",
      "14                    20                    20                 10   \n",
      "15                    80                    80                  0   \n",
      "17                    40                    40                 10   \n",
      "21                    60                    60                 10   \n",
      "25                    30                    30                  0   \n",
      "26                    30                    30                  0   \n",
      "28                    10                    10                  0   \n",
      "30                    10                    10                  0   \n",
      "31                    40                    40                  0   \n",
      "32                    80                    80                 20   \n",
      "34                    10                    10                  0   \n",
      "41                    20                    20                  0   \n",
      "44                    60                    60                  0   \n",
      "46                    30                    30                 10   \n",
      "47                    50                    50                 10   \n",
      "48                    40                    40                 10   \n",
      "53                    80                    80                 30   \n",
      "54                    50                    50                  0   \n",
      "65                    60                    60                 10   \n",
      "68                    30                    30                 10   \n",
      "\n",
      "    Speech_SUDS  Speech_Exposure_SUDS  Speech_Break_SUDS  \n",
      "3            50                    70                 20  \n",
      "5            40                    30                  0  \n",
      "6            50                    70                 10  \n",
      "7            30                    20                  0  \n",
      "9            20                    10                  0  \n",
      "11           20                    40                 70  \n",
      "14           30                    30                 10  \n",
      "15           10                    20                 10  \n",
      "17           10                    20                 10  \n",
      "21           60                    40                 20  \n",
      "25           20                    10                  0  \n",
      "26           50                    50                 30  \n",
      "28           10                    10                 20  \n",
      "30           10                    10                  0  \n",
      "31           20                    30                  0  \n",
      "32           60                    50                 50  \n",
      "34           20                    20                  0  \n",
      "41           10                    20                  0  \n",
      "44           10                     0                  0  \n",
      "46           30                    30                 10  \n",
      "47           70                    70                  0  \n",
      "48           40                    30                 20  \n",
      "53           50                    60                 30  \n",
      "54           40                    30                  0  \n",
      "65           40                    60                 10  \n",
      "68           20                    20                 10  \n"
     ]
    },
    {
     "name": "stderr",
     "output_type": "stream",
     "text": [
      "In a future version, DataFrame.mean(axis=None) will return a scalar mean over the entire DataFrame. To retain the old behavior, use 'frame.mean(axis=0)' or just 'frame.mean()'\n"
     ]
    }
   ],
   "source": [
    "# APD\n",
    "importlib.reload(dr_a)\n",
    "importlib.reload(train)\n",
    "\n",
    "\n",
    "threshold = \"fixed\"\n",
    "participant_file = os.path.join(dr_a.Paths.DATA_DIR, \"participants_details.csv\")\n",
    "df = pd.read_csv(participant_file)\n",
    "labels = [\n",
    "    \"Baseline_SUDS\", \"BugBox_Relax_SUDS\", \"BugBox_Preparation_SUDS\", \"BugBox_Exposure_SUDS\", \"BugBox_Exposure_SUDS\", \n",
    "    \"Speech_Relax_SUDS\", \"Speech_SUDS\", \"Speech_Exposure_SUDS\", \"Speech_Break_SUDS\"\n",
    "]\n",
    "suds_labels = df.loc[:, [\"Participant\"] + labels]\n",
    "mean_suds = np.mean(suds_labels.loc[:, labels])\n",
    "\n",
    "ha_suds_df = suds_labels.loc[suds_labels['Participant'].isin(dr_a.Groups.ha_participant_indices)]\n",
    "la_suds_df = suds_labels.loc[suds_labels['Participant'].isin(dr_a.Groups.la_participant_indices)]\n",
    "\n",
    "print(ha_suds_df)"
   ]
  }
 ],
 "metadata": {
  "kernelspec": {
   "display_name": "Python 3",
   "language": "python",
   "name": "python3"
  },
  "language_info": {
   "codemirror_mode": {
    "name": "ipython",
    "version": 3
   },
   "file_extension": ".py",
   "mimetype": "text/x-python",
   "name": "python",
   "nbconvert_exporter": "python",
   "pygments_lexer": "ipython3",
   "version": "3.10.9"
  },
  "orig_nbformat": 4
 },
 "nbformat": 4,
 "nbformat_minor": 2
}
