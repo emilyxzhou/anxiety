{
 "cells": [
  {
   "cell_type": "code",
   "execution_count": 5,
   "metadata": {},
   "outputs": [],
   "source": [
    "# IMPORTING MODULES\n",
    "import glob\n",
    "import importlib\n",
    "import matplotlib.pyplot as plt\n",
    "import numpy as np\n",
    "import os\n",
    "import pandas as pd\n",
    "import tools.preprocessing as preprocessing\n",
    "import scipy.signal as ss\n",
    "import sys\n",
    "module_path = os.path.abspath(os.path.join('..', '..', 'src'))\n",
    "sys.path.append(module_path)\n",
    "import tools.data_reader_apd as dr_a\n",
    "import tools.data_reader_ascertain as dr_asc\n",
    "import tools.data_reader_wesad as dr_w\n",
    "import tools.data_reader_popane as dr_p\n",
    "import tools.display_tools as dt\n",
    "import train\n",
    "\n",
    "from scipy import stats"
   ]
  },
  {
   "cell_type": "code",
   "execution_count": 3,
   "metadata": {},
   "outputs": [],
   "source": [
    "metrics = [\n",
    "    train.Metrics.BPM, \n",
    "    train.Metrics.RMSSD, \n",
    "    train.Metrics.HF_RR, \n",
    "    train.Metrics.LF_RR, \n",
    "    train.Metrics.SDNN, \n",
    "    train.Metrics.MEAN_SCL, \n",
    "    train.Metrics.SCR_RATE, \n",
    "]"
   ]
  },
  {
   "attachments": {},
   "cell_type": "markdown",
   "metadata": {},
   "source": [
    "### APD"
   ]
  },
  {
   "cell_type": "code",
   "execution_count": null,
   "metadata": {},
   "outputs": [],
   "source": [
    "importlib.reload(train)\n",
    "importlib.reload(dr_a)\n",
    "importlib.reload(dt)\n",
    "importlib.reload(preprocessing)\n",
    "\n",
    "model_phases = [\n",
    "    \"Baseline_Rest\", \n",
    "    \"BugBox_Relax\", \"BugBox_Anticipate\", \"BugBox_Exposure\", \"BugBox_Break\",\n",
    "    \"Speech_Relax\", \"Speech_Anticipate\", \"Speech_Exposure\", \"Speech_Break\"\n",
    "]\n",
    "\n",
    "threshold = \"fixed\"\n",
    "anxiety_label_type = None\n",
    "\n",
    "for metric in metrics:\n",
    "    x, y = train.Train_APD.get_apd_data_ranking(\n",
    "        [metric], model_phases, verbose=False, anxiety_label_type=anxiety_label_type, \n",
    "        threshold=threshold, normalize=True, combine_phases=False\n",
    "    )\n",
    "    negative = y[y.loc[:, \"label\"] == 0]\n",
    "    positive = y[y.loc[:, \"label\"] == 1]\n",
    "    \n",
    "    "
   ]
  },
  {
   "attachments": {},
   "cell_type": "markdown",
   "metadata": {},
   "source": [
    "### WESAD"
   ]
  },
  {
   "cell_type": "code",
   "execution_count": null,
   "metadata": {},
   "outputs": [],
   "source": [
    "importlib.reload(train)\n",
    "importlib.reload(dr_w)\n",
    "importlib.reload(dt)\n",
    "importlib.reload(preprocessing)\n",
    "\n",
    "model_phases = dr_w.Phases.PHASE_ORDER\n",
    "\n",
    "label_type = \"stai\"\n",
    "threshold = \"fixed\"\n",
    "\n",
    "for metric in metrics:\n",
    "    x, y = train.Train_WESAD.get_wesad_data(\n",
    "        [metric], model_phases, verbose=False, label_type=label_type, threshold=threshold, \n",
    "        normalize=True, combine_phases=False\n",
    "    )\n",
    "    negative = y[y.loc[:, \"label\"] == 0]\n",
    "    positive = y[y.loc[:, \"label\"] == 1]\n",
    "    \n",
    "    "
   ]
  },
  {
   "attachments": {},
   "cell_type": "markdown",
   "metadata": {},
   "source": [
    "### ASCERTAIN"
   ]
  },
  {
   "cell_type": "code",
   "execution_count": 11,
   "metadata": {},
   "outputs": [],
   "source": [
    "importlib.reload(train)\n",
    "importlib.reload(dr_asc)\n",
    "importlib.reload(dt)\n",
    "importlib.reload(preprocessing)\n",
    "\n",
    "label_type = dr_asc.SelfReports.AROUSAL\n",
    "threshold = \"fixed\"\n",
    "\n",
    "for metric in metrics:\n",
    "    x, y = train.Train_ASCERTAIN.get_ascertain_data(\n",
    "        [metric], verbose=False, label_type=label_type, threshold=threshold, \n",
    "        normalize=True, combine_phases=False\n",
    "    )\n",
    "\n",
    "    negative = y[y.loc[:, \"label\"] == 0]\n",
    "    positive = y[y.loc[:, \"label\"] == 1]\n",
    "    \n",
    "    "
   ]
  }
 ],
 "metadata": {
  "kernelspec": {
   "display_name": "Python 3",
   "language": "python",
   "name": "python3"
  },
  "language_info": {
   "codemirror_mode": {
    "name": "ipython",
    "version": 3
   },
   "file_extension": ".py",
   "mimetype": "text/x-python",
   "name": "python",
   "nbconvert_exporter": "python",
   "pygments_lexer": "ipython3",
   "version": "3.7.9"
  },
  "orig_nbformat": 4
 },
 "nbformat": 4,
 "nbformat_minor": 2
}
