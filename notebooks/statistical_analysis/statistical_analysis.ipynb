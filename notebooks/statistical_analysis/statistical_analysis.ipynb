{
 "cells": [
  {
   "attachments": {},
   "cell_type": "markdown",
   "metadata": {},
   "source": [
    "### Statistical analysis ###"
   ]
  },
  {
   "cell_type": "code",
   "execution_count": 2,
   "metadata": {},
   "outputs": [],
   "source": [
    "# IMPORTING MODULES\n",
    "import glob\n",
    "import importlib\n",
    "import matplotlib.pyplot as plt\n",
    "import numpy as np\n",
    "import os\n",
    "import pandas as pd\n",
    "import scipy.signal as ss\n",
    "import sys\n",
    "module_path = os.path.abspath(os.path.join('..', '..', 'src'))\n",
    "sys.path.append(module_path)\n",
    "import tools.data_reader_apd as dr_a\n",
    "import tools.data_reader_wesad as dr_w\n",
    "import tools.data_reader_popane as dr_p\n",
    "import tools.display_tools as dt"
   ]
  },
  {
   "attachments": {},
   "cell_type": "markdown",
   "metadata": {},
   "source": [
    "### BPM ###"
   ]
  },
  {
   "cell_type": "code",
   "execution_count": 30,
   "metadata": {},
   "outputs": [
    {
     "name": "stderr",
     "output_type": "stream",
     "text": [
      "C:\\Users\\zhoux\\AppData\\Local\\Temp\\ipykernel_7248\\2734142962.py:41: RuntimeWarning: Mean of empty slice\n",
      "  mean_col = pd.DataFrame(np.nanmean(df[:, 1:], axis=1), columns=[\"mean_bpm\"])\n"
     ]
    }
   ],
   "source": [
    "importlib.reload(dr_a)\n",
    "importlib.reload(dt)\n",
    "\n",
    "\n",
    "# what's the best plot for data visualization?\n",
    "\n",
    "apd_metric_folder = dr_a.Paths.METRICS\n",
    "phases = dr_a.Phases.PHASES_LIST\n",
    "apd_mean_bpm = {}\n",
    "for phase in phases:\n",
    "    # print(f\"PHASE: {phase} \" + \"-\"*30)\n",
    "    files = glob.glob(os.path.join(apd_metric_folder, f\"bpm_{phase}*.csv\"))\n",
    "\n",
    "    dfs = [pd.read_csv(file, index_col=[0]).to_numpy() for file in files]\n",
    "    for i in range(len(dfs)):\n",
    "        df = dfs[i]\n",
    "        subjects = pd.DataFrame(df[:, 0], columns=[\"subject\"])\n",
    "        mean_col = pd.DataFrame(np.nanmean(df[:, 1:], axis=1), columns=[\"mean_bpm\"])\n",
    "        mean_df = pd.concat([subjects, mean_col], axis=1)\n",
    "\n",
    "        indices = mean_df.query('mean_bpm > 180').index.tolist()\n",
    "        mean_df = mean_df.drop(indices, axis=0).reset_index()\n",
    "        mean_df.dropna()\n",
    "\n",
    "        dfs[i] = mean_df\n",
    "    dfs = pd.concat(dfs, axis=0)\n",
    "    apd_mean_bpm[phase] = dfs\n",
    "    \n",
    "\n",
    "wesad_metric_folder = dr_w.Paths.METRICS\n",
    "phases = dr_w.Phases.PHASE_ORDER\n",
    "wesad_mean_bpm = {}\n",
    "for phase in phases:\n",
    "    # print(f\"PHASE: {phase} \" + \"-\"*30)\n",
    "    files = glob.glob(os.path.join(wesad_metric_folder, f\"bpm_{phase}*.csv\"))\n",
    "\n",
    "    dfs = [pd.read_csv(file, index_col=[0]).to_numpy() for file in files]\n",
    "    for i in range(len(dfs)):\n",
    "        df = dfs[i]\n",
    "        subjects = pd.DataFrame(df[:, 0], columns=[\"subject\"])\n",
    "        mean_col = pd.DataFrame(np.nanmean(df[:, 1:], axis=1), columns=[\"mean_bpm\"])\n",
    "        mean_df = pd.concat([subjects, mean_col], axis=1)\n",
    "\n",
    "        indices = mean_df.query('mean_bpm > 180').index.tolist()\n",
    "        mean_df = mean_df.drop(indices, axis=0).reset_index()\n",
    "        mean_df = mean_df.dropna()\n",
    "\n",
    "        dfs[i] = mean_df\n",
    "    dfs = pd.concat(dfs, axis=0)\n",
    "    wesad_mean_bpm[phase] = dfs\n",
    "    \n",
    "\n",
    "popane_metric_folder = dr_p.Paths.METRICS\n",
    "studies = {\n",
    "    \"Study1\": dr_p.Study1,\n",
    "    \"Study3\": dr_p.Study3,\n",
    "    \"Study4\": dr_p.Study4,\n",
    "    \"Study5\": dr_p.Study5\n",
    "}\n",
    "popane_mean_bpm_1 = {}\n",
    "popane_mean_bpm_3 = {}\n",
    "popane_mean_bpm_4 = {}\n",
    "popane_mean_bpm_5 = {}\n",
    "\n",
    "popane_mean_bpm = [\n",
    "    popane_mean_bpm_1,\n",
    "    popane_mean_bpm_3,\n",
    "    popane_mean_bpm_4,\n",
    "    popane_mean_bpm_5\n",
    "]\n",
    "for i in range(len(popane_mean_bpm)):\n",
    "    study = list(studies.keys())[i]\n",
    "    phases = studies[study].ALL\n",
    "    for phase in phases:\n",
    "        # print(f\"PHASE: {phase} \" + \"-\"*30)\n",
    "\n",
    "        files = glob.glob(os.path.join(popane_metric_folder, study, f\"bpm_{phase}*.csv\"))\n",
    "\n",
    "        dfs = [pd.read_csv(file, index_col=[0]).to_numpy() for file in files]\n",
    "        for i in range(len(dfs)):\n",
    "            df = dfs[i]\n",
    "            subjects = pd.DataFrame(df[:, 0], columns=[\"subject\"])\n",
    "            mean_col = pd.DataFrame(np.nanmean(df[:, 1:], axis=1), columns=[\"mean_bpm\"])\n",
    "            mean_df = pd.concat([subjects, mean_col], axis=1)\n",
    "\n",
    "            indices = mean_df.query('mean_bpm > 180').index.tolist()\n",
    "            mean_df = mean_df.drop(indices, axis=0).reset_index()\n",
    "            mean_df = mean_df.dropna()\n",
    "\n",
    "            dfs[i] = mean_df\n",
    "        dfs = pd.concat(dfs, axis=0)\n",
    "        popane_mean_bpm[i][phase] = dfs"
   ]
  }
 ],
 "metadata": {
  "kernelspec": {
   "display_name": "Python 3",
   "language": "python",
   "name": "python3"
  },
  "language_info": {
   "codemirror_mode": {
    "name": "ipython",
    "version": 3
   },
   "file_extension": ".py",
   "mimetype": "text/x-python",
   "name": "python",
   "nbconvert_exporter": "python",
   "pygments_lexer": "ipython3",
   "version": "3.10.9"
  },
  "orig_nbformat": 4,
  "vscode": {
   "interpreter": {
    "hash": "aecf4e853c2a06e9a3d98203b0bfcb89edde136ff484aed399b3da44301ece48"
   }
  }
 },
 "nbformat": 4,
 "nbformat_minor": 2
}
