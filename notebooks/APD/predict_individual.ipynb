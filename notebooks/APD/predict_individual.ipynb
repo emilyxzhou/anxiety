{
 "cells": [
  {
   "cell_type": "markdown",
   "metadata": {},
   "source": [
    "### Can we identify the subject based on their physiological signals and self-reports? ###"
   ]
  },
  {
   "cell_type": "code",
   "execution_count": 3,
   "metadata": {},
   "outputs": [],
   "source": [
    "# IMPORTING MODULES\n",
    "import glob\n",
    "import importlib\n",
    "import matplotlib.pyplot as plt\n",
    "import numpy as np\n",
    "import os\n",
    "cvx_path = os.path.abspath(os.path.join('..', '..', 'cvxEDA', 'src'))\n",
    "module_path = os.path.abspath(os.path.join('..', '..', 'src'))\n",
    "sys.path.append(module_path)\n",
    "import pandas as pd\n",
    "import random\n",
    "import scipy.signal as ss\n",
    "import sys\n",
    "\n",
    "import tools.data_reader_apd as dr\n",
    "import tools.display_tools as dt\n",
    "import tools.preprocessing as preprocessing\n",
    "import train\n",
    "\n",
    "from scipy.fft import fft, fftfreq, fftshift\n",
    "from sklearn.svm import SVC\n",
    "from sklearn.metrics import accuracy_score, classification_report, confusion_matrix\n",
    "from sklearn.model_selection import train_test_split, cross_val_score, RepeatedKFold\n",
    "from sklearn.neighbors import KNeighborsClassifier\n",
    "from sklearn.preprocessing import normalize\n",
    "\n",
    "import cvxopt.solvers\n",
    "cvxopt.solvers.options['show_progress'] = False\n",
    "\n",
    "import warnings\n",
    "warnings.filterwarnings(\n",
    "    \"ignore\", \n",
    "    category=RuntimeWarning\n",
    ")"
   ]
  },
  {
   "cell_type": "code",
   "execution_count": 30,
   "metadata": {},
   "outputs": [
    {
     "name": "stdout",
     "output_type": "stream",
     "text": [
      "SVM accuracy over 10 rounds: 0.6619047619047619\n",
      "KNN accuracy over 10 rounds: 0.6079365079365079\n"
     ]
    }
   ],
   "source": [
    "# LOAD TRAIN AND TEST DATA\n",
    "importlib.reload(train)\n",
    "importlib.reload(preprocessing)\n",
    "importlib.reload(dr)\n",
    "importlib.reload(dt)\n",
    "\n",
    "metrics = [\n",
    "    \"bpm\", \n",
    "    \"rmssd\", \n",
    "    \"hf_rr\", \n",
    "    \"lf_rr\", \n",
    "    \"ibi\", \n",
    "    \"mean_SCL\", \n",
    "    \"SCR_rate\"\n",
    "]\n",
    "\n",
    "model_phases = [\n",
    "    dr.Phases.BASE_REST,\n",
    "    dr.Phases.BUG_RELAX, dr.Phases.BUG_ANTICIPATE, dr.Phases.BUG_EXPOSURE, dr.Phases.BUG_BREAK,\n",
    "    dr.Phases.SPEECH_RELAX, dr.Phases.SPEECH_ANTICIPATE, dr.Phases.SPEECH_EXPOSURE, dr.Phases.SPEECH_BREAK\n",
    "]\n",
    "\n",
    "if type(model_phases) != list:\n",
    "    model_phases = [model_phases]\n",
    "\n",
    "anxiety_label_type = \"Gender\"\n",
    "x, y = train.Train_APD.get_apd_data_ranking(metrics, model_phases, verbose=False, anxiety_label_type=anxiety_label_type)\n",
    "# drop subjects with noisy data\n",
    "x = x[x['subject'] != 84.0]\n",
    "y = y[y['subject'] != 84.0]\n",
    "x = x[x['subject'] != 8.0]\n",
    "y = y[y['subject'] != 8.0]\n",
    "\n",
    "# print(x.head())\n",
    "\n",
    "# 0-1 scaling\n",
    "for i in range(3, len(x.columns)):\n",
    "    data_col = x[x.columns[i]]\n",
    "    data_col = (data_col - data_col.min())/(data_col.max() - data_col.min())\n",
    "    x[x.columns[i]] = data_col\n",
    "\n",
    "# print(x.head())\n",
    "# print(y.head())\n",
    "# print(y.loc[:, \"label\"].value_counts())\n",
    "\n",
    "models = {\n",
    "    \"SVM\": SVC(), \n",
    "    \"KNN\": KNeighborsClassifier()\n",
    "}\n",
    "\n",
    "results = {\"SVM\": [], \"KNN\": []}\n",
    "num_iters = 10\n",
    "for _ in range(num_iters):\n",
    "    out = train.train_predict(models, x, y, show_classification=False)\n",
    "    for model_name in results:\n",
    "        results[model_name].append(out[model_name])\n",
    "\n",
    "for model_name in results.keys():\n",
    "    print(f\"{model_name} accuracy over {num_iters} rounds: {np.mean(results[model_name])}\")"
   ]
  }
 ],
 "metadata": {
  "kernelspec": {
   "display_name": "Python 3.8.10 64-bit",
   "language": "python",
   "name": "python3"
  },
  "language_info": {
   "codemirror_mode": {
    "name": "ipython",
    "version": 3
   },
   "file_extension": ".py",
   "mimetype": "text/x-python",
   "name": "python",
   "nbconvert_exporter": "python",
   "pygments_lexer": "ipython3",
   "version": "3.8.10"
  },
  "orig_nbformat": 4,
  "vscode": {
   "interpreter": {
    "hash": "546118464d5f1b8107aba37f58db47ce6901389061f2cf944aaa875419724407"
   }
  }
 },
 "nbformat": 4,
 "nbformat_minor": 2
}
