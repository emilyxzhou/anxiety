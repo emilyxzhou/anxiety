{
 "cells": [
  {
   "cell_type": "code",
   "execution_count": 46,
   "metadata": {},
   "outputs": [],
   "source": [
    "# IMPORTING MODULES\n",
    "import glob\n",
    "import importlib\n",
    "import matplotlib.pyplot as plt\n",
    "import numpy as np\n",
    "import os\n",
    "module_path = os.path.abspath(os.path.join('..', 'src'))\n",
    "sys.path.append(module_path)\n",
    "import pandas as pd\n",
    "import scipy.signal as ss\n",
    "import sys\n",
    "import warnings\n",
    "warnings.filterwarnings(\"ignore\")\n",
    "\n",
    "import tools.data_reader_wesad as dr\n",
    "import tools.display_tools as dt\n",
    "import tools.preprocessing as preprocessing\n",
    "\n",
    "from scipy.fft import fft, fftfreq, fftshift\n",
    "\n",
    "import cvxopt.solvers\n",
    "cvxopt.solvers.options['show_progress'] = False"
   ]
  },
  {
   "cell_type": "code",
   "execution_count": 85,
   "metadata": {},
   "outputs": [
    {
     "name": "stdout",
     "output_type": "stream",
     "text": [
      "17\n",
      "17\n"
     ]
    }
   ],
   "source": [
    "# ECG METRICS\n",
    "importlib.reload(dr)\n",
    "importlib.reload(dt)\n",
    "importlib.reload(preprocessing)\n",
    "\n",
    "import heartpy as hp\n",
    "\n",
    "subject = 3\n",
    "phases = [\n",
    "    dr.Phases.BASE,\n",
    "    dr.Phases.TSST,\n",
    "    dr.Phases.MEDI_1,\n",
    "    dr.Phases.FUN,\n",
    "    dr.Phases.MEDI_2\n",
    "]\n",
    "location = dr.WESADKeys.CHEST\n",
    "modality = dr.Modalities.ECG\n",
    "\n",
    "data = dr.get_participant_data(subject)\n",
    "labels = data[\"label\"]\n",
    "curr_value = labels[0]\n",
    "start_indices = [0]\n",
    "end_indices = []\n",
    "\n",
    "i = 1\n",
    "while i < len(labels):\n",
    "    if labels[i] != curr_value:\n",
    "        end_indices.append(i-1)\n",
    "        start_indices.append(i)\n",
    "        curr_value = labels[i]\n",
    "    i += 1\n",
    "\n",
    "end_indices.append(len(labels)-1)\n",
    "\n",
    "time_segments = {}\n",
    "for i in range(len(start_indices)):\n",
    "    label = labels[start_indices[i]]\n",
    "    if label not in time_segments.keys():\n",
    "        time_segments[label] = [(start_indices[i], end_indices[i])]\n",
    "    else:\n",
    "        time_segments[label].append((start_indices[i], end_indices[i]))\n",
    "\n",
    "# for phase in phases:\n",
    "#     data_2 = dr.get_data_for_phase(subject, phase, location, dr.Modalities.ECG)\n",
    "#     fs = dr.FS_DICT[location][modality]\n",
    "#     wd, m = hp.process(data_2, sample_rate=fs)\n",
    "#     hp.plotter(wd, m, title=f\"Subject {subject}, {phase}, {modality} {location}\")\n"
   ]
  },
  {
   "cell_type": "code",
   "execution_count": 86,
   "metadata": {},
   "outputs": [
    {
     "name": "stdout",
     "output_type": "stream",
     "text": [
      "{0: [(0, 246997), (1044998, 1075097), (1126198, 1570697), (2018698, 2234997), (2281898, 3007797), (3289198, 3502697), (3765198, 3880697), (3927598, 4072496), (4337098, 4545099)], 1: [(246998, 1044997)], 5: [(1075098, 1126197)], 2: [(1570698, 2018697)], 6: [(2234998, 2281897)], 4: [(3007798, 3289197), (4072497, 4337097)], 3: [(3502698, 3765197)], 7: [(3880698, 3927597)]}\n"
     ]
    }
   ],
   "source": [
    "print(time_segments)"
   ]
  },
  {
   "cell_type": "code",
   "execution_count": null,
   "metadata": {},
   "outputs": [],
   "source": [
    "#LOAD ECG DATA\n",
    "importlib.reload(dr)\n",
    "importlib.reload(dt)\n",
    "importlib.reload(preprocessing)\n",
    "\n",
    "import heartpy as hp\n",
    "\n",
    "fs = dr.FS_DICT[\"chest\"][\"ECG\"]\n",
    "data = dr.get_modality(2, dr.WESADKeys.CHEST, dr.Modalities.ECG).flatten()\n",
    "wd, m = hp.process(data, sample_rate=fs)\n",
    "hp.plotter(wd, m)"
   ]
  }
 ],
 "metadata": {
  "kernelspec": {
   "display_name": "Python 3.9.0 64-bit",
   "language": "python",
   "name": "python3"
  },
  "language_info": {
   "codemirror_mode": {
    "name": "ipython",
    "version": 3
   },
   "file_extension": ".py",
   "mimetype": "text/x-python",
   "name": "python",
   "nbconvert_exporter": "python",
   "pygments_lexer": "ipython3",
   "version": "3.9.0"
  },
  "orig_nbformat": 4,
  "vscode": {
   "interpreter": {
    "hash": "0877744b127b3e06bbb46a4d58ff9f96d2144cab151d4d0cf00260a00e80ed7c"
   }
  }
 },
 "nbformat": 4,
 "nbformat_minor": 2
}
