{
 "cells": [
  {
   "cell_type": "code",
   "execution_count": 2,
   "metadata": {},
   "outputs": [],
   "source": [
    "# IMPORTING MODULES\n",
    "import glob\n",
    "import importlib\n",
    "import matplotlib.pyplot as plt\n",
    "import numpy as np\n",
    "import os\n",
    "module_path = os.path.abspath(os.path.join('..', 'src'))\n",
    "sys.path.append(module_path)\n",
    "import pandas as pd\n",
    "import random\n",
    "import scipy.signal as ss\n",
    "import seaborn\n",
    "import sys\n",
    "\n",
    "import tools.data_reader_apd as dr\n",
    "import tools.display_tools as dt\n",
    "import tools.preprocessing as preprocessing\n",
    "\n",
    "\n",
    "import warnings\n",
    "warnings.filterwarnings(\n",
    "    \"ignore\", \n",
    "    category=RuntimeWarning\n",
    ")"
   ]
  },
  {
   "cell_type": "code",
   "execution_count": 5,
   "metadata": {},
   "outputs": [],
   "source": [
    "# RANKING PHASES BY LOW TO HIGH ANXIETY\n",
    "SUDS_labels = [\n",
    "    \"Participant\",\n",
    "    \"Baseline_SUDS\",\n",
    "    # \"BugBox_Relax_SUDS\", \"BugBox_Preparation_SUDS\", \"BugBox_Exposure_SUDS\", \"BugBox_Break_SUDS\",\n",
    "    \"BugBox_Relax_SUDS\", \"BugBox_Preparation_SUDS\", \"BugBox_Break_SUDS\",\n",
    "    \"Speech_Relax_SUDS\", \"Speech_SUDS\", \"Speech_Exposure_SUDS\", \"Speech_Break_SUDS\"\n",
    "]\n",
    "\n",
    "\n",
    "ha_participant_indices = [\n",
    "    'P4', 'P6', 'P7', 'P8', 'P10', 'P12', 'P15', 'P16', 'P18', 'P22', 'P26', 'P27', 'P29', 'P31', 'P32', 'P33', 'P35', 'P42', 'P45', 'P47', 'P48', 'P49', 'P54', 'P55', 'P66', 'P69'\n",
    "]\n",
    "\n",
    "la_participant_indices = [\n",
    "    'P14', 'P21', 'P23', 'P25', 'P34', 'P39', 'P43', 'P46', 'P51', 'P57', 'P71', 'P72', 'P77', 'P78', 'P79', 'P80', 'P82', 'P83', 'P84', 'P85', 'P87', 'P88', 'P89', 'P91', 'P92', 'P93'\n",
    "]\n",
    "\n",
    "participant_file = os.path.join(dr.Paths.DATA_DIR, \"participants_details.csv\")\n",
    "df = pd.read_csv(participant_file)\n",
    "\n",
    "suds_df = df[SUDS_labels]\n",
    "ha_suds_df = suds_df.loc[suds_df['Participant'].isin(ha_participant_indices)]\n",
    "la_suds_df = suds_df.loc[suds_df['Participant'].isin(la_participant_indices)]\n",
    "\n",
    "ha_ranked = {}\n",
    "la_ranked = {}\n",
    "\n",
    "for i in range(ha_suds_df.shape[0]):\n",
    "    phases_ranked = []\n",
    "    for j in range(1, ha_suds_df.shape[1]):\n",
    "        phases_ranked.append(ha_suds_df.iloc[i, j])\n",
    "    ha_ranked[ha_suds_df.iloc[i, 0]] = phases_ranked\n",
    "\n",
    "for i in range(la_suds_df.shape[0]):\n",
    "    phases_ranked = []\n",
    "    for j in range(1, la_suds_df.shape[1]):\n",
    "        phases_ranked.append((la_suds_df.iloc[i, j], la_suds_df.columns[j]))\n",
    "    la_ranked[la_suds_df.iloc[i, 0]] = phases_ranked"
   ]
  },
  {
   "cell_type": "code",
   "execution_count": 38,
   "metadata": {},
   "outputs": [
    {
     "name": "stdout",
     "output_type": "stream",
     "text": [
      "   subject  Baseline_SUDS  BugBox_Relax_SUDS  BugBox_Preparation_SUDS  \\\n",
      "0        4             20                  0                       30   \n",
      "1        6             20                  0                       10   \n",
      "2        7             20                  0                       30   \n",
      "3        8             20                  0                       20   \n",
      "4       10             10                  0                        0   \n",
      "\n",
      "   BugBox_Break_SUDS  Speech_Relax_SUDS  Speech_SUDS  Speech_Exposure_SUDS  \\\n",
      "0                 10                  0           50                    70   \n",
      "1                  0                  0           40                    30   \n",
      "2                 10                 10           50                    70   \n",
      "3                 10                  0           30                    20   \n",
      "4                  0                  0           20                    10   \n",
      "\n",
      "   Speech_Break_SUDS  \n",
      "0                 20  \n",
      "1                  0  \n",
      "2                 10  \n",
      "3                  0  \n",
      "4                  0  \n"
     ]
    }
   ],
   "source": [
    "s = pd.DataFrame([int(subject[1:]) for subject in ha_ranked.keys()])\n",
    "ha_ranking_df = pd.concat([pd.Series(ha_ranked[subject]) for subject in ha_ranked.keys()], axis=1, ignore_index=True).transpose().reset_index(drop=True)\n",
    "ha_ranking_df.columns = SUDS_labels[1:]\n",
    "ha_ranking_df.insert(0, \"subject\", s)\n",
    "print(ha_ranking_df.head())"
   ]
  }
 ],
 "metadata": {
  "kernelspec": {
   "display_name": "Python 3.9.0 64-bit",
   "language": "python",
   "name": "python3"
  },
  "language_info": {
   "codemirror_mode": {
    "name": "ipython",
    "version": 3
   },
   "file_extension": ".py",
   "mimetype": "text/x-python",
   "name": "python",
   "nbconvert_exporter": "python",
   "pygments_lexer": "ipython3",
   "version": "3.9.0"
  },
  "orig_nbformat": 4,
  "vscode": {
   "interpreter": {
    "hash": "0877744b127b3e06bbb46a4d58ff9f96d2144cab151d4d0cf00260a00e80ed7c"
   }
  }
 },
 "nbformat": 4,
 "nbformat_minor": 2
}
