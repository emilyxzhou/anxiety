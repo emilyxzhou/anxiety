{
 "cells": [
  {
   "cell_type": "markdown",
   "metadata": {},
   "source": [
    "### Can we classify each phase as the TSST (stress) vs non-stress phase for each subject? ###"
   ]
  },
  {
   "cell_type": "code",
   "execution_count": 97,
   "metadata": {},
   "outputs": [],
   "source": [
    "# IMPORTING MODULES\n",
    "import glob\n",
    "import importlib\n",
    "import matplotlib.pyplot as plt\n",
    "import numpy as np\n",
    "import os\n",
    "cvx_path = os.path.abspath(os.path.join('..', '..', 'cvxEDA', 'src'))\n",
    "module_path = os.path.abspath(os.path.join('..', '..', 'src'))\n",
    "sys.path.append(module_path)\n",
    "import pandas as pd\n",
    "import random\n",
    "import scipy.signal as ss\n",
    "import sys\n",
    "\n",
    "import tools.data_reader_wesad as dr\n",
    "import tools.display_tools as dt\n",
    "import tools.preprocessing as preprocessing\n",
    "import train\n",
    "\n",
    "from scipy.fft import fft, fftfreq, fftshift\n",
    "from sklearn.svm import SVC\n",
    "from sklearn.metrics import accuracy_score, classification_report, confusion_matrix\n",
    "from sklearn.model_selection import train_test_split, cross_val_score, RepeatedKFold\n",
    "from sklearn.neighbors import KNeighborsClassifier\n",
    "from sklearn.preprocessing import normalize\n",
    "\n",
    "import cvxopt.solvers\n",
    "cvxopt.solvers.options['show_progress'] = False\n",
    "\n",
    "import warnings\n",
    "warnings.filterwarnings(\n",
    "    \"ignore\", \n",
    "    category=RuntimeWarning\n",
    ")\n",
    "\n",
    "\n",
    "phases = dr.Phases.PHASE_ORDER\n"
   ]
  },
  {
   "cell_type": "code",
   "execution_count": 105,
   "metadata": {},
   "outputs": [
    {
     "name": "stdout",
     "output_type": "stream",
     "text": [
      "SVM accuracy over 10 rounds: 0.8\n"
     ]
    }
   ],
   "source": [
    "importlib.reload(train)\n",
    "importlib.reload(dt)\n",
    "importlib.reload(preprocessing)\n",
    "\n",
    "\n",
    "metrics = [\n",
    "    \"bpm\", \n",
    "    \"rmssd\", \n",
    "    \"hf_rr\", \n",
    "    \"lf_rr\", \n",
    "    \"ibi\", \n",
    "    # \"mean_SCL\", \n",
    "    # \"SCR_rate\"\n",
    "]\n",
    "\n",
    "phases = dr.Phases.PHASE_ORDER\n",
    "\n",
    "x, y = train.Train_WESAD.get_wesad_data(metrics, phases, verbose=False, label_type=\"all\")\n",
    "\n",
    "models = {\n",
    "    \"SVM\": SVC(C=1, gamma=0.01), \n",
    "    # \"KNN\": KNeighborsClassifier(n_neighbors=7)\n",
    "}\n",
    "\n",
    "results = {\n",
    "    \"SVM\": [], \n",
    "    # \"KNN\": []\n",
    "}\n",
    "num_iters = 10\n",
    "for _ in range(num_iters):\n",
    "    out = train.train_predict(models, x, y, by_subject=False, show_classification=False)\n",
    "    for model_name in results:\n",
    "        results[model_name].append(out[model_name])\n",
    "\n",
    "for model_name in results.keys():\n",
    "    print(f\"{model_name} accuracy over {num_iters} rounds: {np.mean(results[model_name])}\")"
   ]
  }
 ],
 "metadata": {
  "kernelspec": {
   "display_name": "Python 3.8.10 64-bit",
   "language": "python",
   "name": "python3"
  },
  "language_info": {
   "codemirror_mode": {
    "name": "ipython",
    "version": 3
   },
   "file_extension": ".py",
   "mimetype": "text/x-python",
   "name": "python",
   "nbconvert_exporter": "python",
   "pygments_lexer": "ipython3",
   "version": "3.8.10"
  },
  "orig_nbformat": 4,
  "vscode": {
   "interpreter": {
    "hash": "546118464d5f1b8107aba37f58db47ce6901389061f2cf944aaa875419724407"
   }
  }
 },
 "nbformat": 4,
 "nbformat_minor": 2
}
