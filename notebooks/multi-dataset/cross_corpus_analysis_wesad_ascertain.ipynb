{
 "cells": [
  {
   "cell_type": "code",
   "execution_count": 34,
   "metadata": {},
   "outputs": [],
   "source": [
    "# IMPORTING MODULES\n",
    "import glob\n",
    "import importlib\n",
    "import matplotlib.pyplot as plt\n",
    "import numpy as np\n",
    "import os\n",
    "cvx_path = os.path.abspath(os.path.join('..', '..', 'cvxEDA', 'src'))\n",
    "module_path = os.path.abspath(os.path.join('..', '..', 'src'))\n",
    "import pandas as pd\n",
    "import random\n",
    "import scipy.signal as ss\n",
    "import shap\n",
    "import sys\n",
    "sys.path.append(module_path)\n",
    "\n",
    "import tools.data_reader_apd as dr_a\n",
    "import tools.data_reader_ascertain as dr_asc\n",
    "import tools.display_tools as dt\n",
    "import tools.preprocessing as preprocessing\n",
    "import train\n",
    "\n",
    "from scipy.fft import fft, fftfreq, fftshift\n",
    "from sklearn.tree import DecisionTreeClassifier\n",
    "from sklearn.linear_model import LogisticRegression\n",
    "from sklearn.naive_bayes import GaussianNB\n",
    "from sklearn.neighbors import KNeighborsClassifier\n",
    "from sklearn.svm import SVC\n",
    "from sklearn.metrics import accuracy_score, classification_report, confusion_matrix\n",
    "from sklearn.model_selection import train_test_split, cross_val_score, RepeatedKFold\n",
    "from sklearn.preprocessing import normalize\n",
    "from xgboost import XGBClassifier\n",
    "\n",
    "import cvxopt.solvers\n",
    "cvxopt.solvers.options['show_progress'] = False\n",
    "\n",
    "import warnings\n",
    "warnings.filterwarnings(\n",
    "    \"ignore\", \n",
    "    category=RuntimeWarning\n",
    ")\n",
    "warnings.simplefilter(action='ignore', category=FutureWarning)# IMPORTING MODULES\n",
    "import glob\n",
    "import importlib\n",
    "import matplotlib.pyplot as plt\n",
    "import numpy as np\n",
    "import os\n",
    "cvx_path = os.path.abspath(os.path.join('..', '..', 'cvxEDA', 'src'))\n",
    "module_path = os.path.abspath(os.path.join('..', '..', 'src'))\n",
    "import pandas as pd\n",
    "import random\n",
    "import scipy.signal as ss\n",
    "import shap\n",
    "import sys\n",
    "sys.path.append(module_path)\n",
    "\n",
    "import tools.data_reader_ascertain as dr_asc\n",
    "import tools.data_reader_wesad as dr_w\n",
    "import tools.display_tools as dt\n",
    "import tools.preprocessing as preprocessing\n",
    "import train\n",
    "\n",
    "from scipy.fft import fft, fftfreq, fftshift\n",
    "from sklearn.tree import DecisionTreeClassifier\n",
    "from sklearn.linear_model import LogisticRegression\n",
    "from sklearn.naive_bayes import GaussianNB\n",
    "from sklearn.neighbors import KNeighborsClassifier\n",
    "from sklearn.svm import SVC\n",
    "from sklearn.metrics import accuracy_score, classification_report, confusion_matrix\n",
    "from sklearn.model_selection import train_test_split, cross_val_score, RepeatedKFold\n",
    "from sklearn.preprocessing import normalize\n",
    "from xgboost import XGBClassifier\n",
    "\n",
    "import cvxopt.solvers\n",
    "cvxopt.solvers.options['show_progress'] = False\n",
    "\n",
    "import warnings\n",
    "warnings.filterwarnings(\n",
    "    \"ignore\", \n",
    "    category=RuntimeWarning\n",
    ")\n",
    "warnings.simplefilter(action='ignore', category=FutureWarning)"
   ]
  },
  {
   "cell_type": "code",
   "execution_count": 79,
   "metadata": {},
   "outputs": [],
   "source": [
    "metrics = [\n",
    "    train.Metrics.BPM, \n",
    "    train.Metrics.RMSSD, \n",
    "    train.Metrics.HF_RR, \n",
    "    train.Metrics.LF_RR, \n",
    "    train.Metrics.IBI, \n",
    "    train.Metrics.SDNN, \n",
    "    train.Metrics.MEAN_SCL, \n",
    "    train.Metrics.SCR_RATE\n",
    "]\n",
    "\n",
    "# model_phases_wesad = [\n",
    "#     [\n",
    "        # dr_w.Phases.BASE,\n",
    "#         dr_w.Phases.FUN,\n",
    "#         dr_w.Phases.TSST,\n",
    "#         dr_w.Phases.MEDI_1,\n",
    "#         dr_w.Phases.MEDI_2\n",
    "#     ],\n",
    "    # [\n",
    "    #     dr_w.Phases.BASE,\n",
    "    #     dr_w.Phases.TSST,\n",
    "    #     dr_w.Phases.MEDI_1,\n",
    "    #     dr_w.Phases.MEDI_2\n",
    "    # ],\n",
    "    # [\n",
    "    #     dr_w.Phases.BASE,\n",
    "    #     dr_w.Phases.MEDI_1,\n",
    "    #     dr_w.Phases.MEDI_2\n",
    "    # ],\n",
    "    # [\n",
    "    #     dr_w.Phases.BASE,\n",
    "    # ]\n",
    "# ]\n",
    "\n",
    "model_phases_wesad = dr_w.Phases.PHASE_ORDER\n",
    "\n",
    "wesad_label_type = \"stai\"\n",
    "asc_label_type = dr_asc.SelfReports.AROUSAL\n",
    "\n",
    "models = {\n",
    "    # \"SVM\": SVC(C=10, gamma=1),  # C=10, gamma=1\n",
    "    # \"KNN\": KNeighborsClassifier(n_neighbors=7),\n",
    "    # \"DT\": DecisionTreeClassifier(),\n",
    "    # \"LogReg\": LogisticRegression(max_iter=1000),\n",
    "    # \"Bayes\": GaussianNB(),\n",
    "    \"XGB\": XGBClassifier(use_label_encoder=False, objective=\"binary:logistic\", eval_metric=\"logloss\")\n",
    "}\n",
    "\n",
    "threshold = \"fixed\"\n",
    "asc_threshold = \"fixed\"\n",
    "test_size = 1.0\n"
   ]
  },
  {
   "cell_type": "code",
   "execution_count": 67,
   "metadata": {},
   "outputs": [
    {
     "name": "stdout",
     "output_type": "stream",
     "text": [
      "    subject  Base_STAI  TSST_STAI  Medi_1_STAI   Fun_STAI  Medi_2_STAI\n",
      "0         2  33.333333  66.666667    23.333333  26.666667    20.000000\n",
      "1         4  30.000000  56.666667    50.000000  26.666667    43.333333\n",
      "2         5  33.333333  60.000000    26.666667  40.000000    26.666667\n",
      "3         6  30.000000  50.000000    30.000000  33.333333    20.000000\n",
      "4         7  26.666667  60.000000    30.000000  23.333333    36.666667\n",
      "5         8  43.333333  60.000000    46.666667  43.333333    40.000000\n",
      "6         9  30.000000  46.666667    23.333333  33.333333    23.333333\n",
      "7        10  36.666667  66.666667    33.333333  26.666667    40.000000\n",
      "8        11  30.000000  63.333333    26.666667  20.000000    26.666667\n",
      "9        13  46.666667  70.000000    26.666667  26.666667    53.333333\n",
      "10       14  43.333333  60.000000    43.333333  40.000000    43.333333\n",
      "11       15  40.000000  63.333333    30.000000  33.333333    30.000000\n",
      "12       16  43.333333  63.333333    30.000000  36.666667    33.333333\n",
      "13       17  43.333333  73.333333    33.333333  23.333333    46.666667\n"
     ]
    }
   ],
   "source": [
    "importlib.reload(train)\n",
    "importlib.reload(dr_w)\n",
    "\n",
    "stai_scores, dim_scores_arousal, dim_scores_valence = train.Train_WESAD.get_labels(model_phases_wesad)\n",
    "print(stai_scores)"
   ]
  },
  {
   "cell_type": "code",
   "execution_count": 82,
   "metadata": {},
   "outputs": [
    {
     "name": "stdout",
     "output_type": "stream",
     "text": [
      "WESAD PHASES Base --------------------------------------------------\n",
      "y_train:\n",
      "1    1319\n",
      "0     228\n",
      "Name: label, dtype: int64\n",
      "y_test:\n",
      "0    14\n",
      "Name: label, dtype: int64\n",
      "Model XGB, Predictions: [0 1], [11  3]\n",
      "Only one class present in y_true. ROC AUC score is not defined in that case. Setting AUC score to -1.\n",
      "Calculating SHAP values\n"
     ]
    },
    {
     "name": "stderr",
     "output_type": "stream",
     "text": [
      "ntree_limit is deprecated, use `iteration_range` or model slicing instead.\n"
     ]
    },
    {
     "name": "stdout",
     "output_type": "stream",
     "text": [
      "y_train:\n",
      "1    1319\n",
      "0     228\n",
      "Name: label, dtype: int64\n",
      "y_test:\n",
      "0    14\n",
      "Name: label, dtype: int64\n",
      "Model XGB, Predictions: [0 1], [11  3]\n",
      "Only one class present in y_true. ROC AUC score is not defined in that case. Setting AUC score to -1.\n",
      "Calculating SHAP values\n"
     ]
    },
    {
     "name": "stderr",
     "output_type": "stream",
     "text": [
      "ntree_limit is deprecated, use `iteration_range` or model slicing instead.\n"
     ]
    },
    {
     "name": "stdout",
     "output_type": "stream",
     "text": [
      "y_train:\n",
      "1    1319\n",
      "0     228\n",
      "Name: label, dtype: int64\n",
      "y_test:\n",
      "0    14\n",
      "Name: label, dtype: int64\n",
      "Model XGB, Predictions: [0 1], [11  3]\n",
      "Only one class present in y_true. ROC AUC score is not defined in that case. Setting AUC score to -1.\n",
      "Calculating SHAP values\n"
     ]
    },
    {
     "name": "stderr",
     "output_type": "stream",
     "text": [
      "ntree_limit is deprecated, use `iteration_range` or model slicing instead.\n"
     ]
    },
    {
     "name": "stdout",
     "output_type": "stream",
     "text": [
      "y_train:\n",
      "1    1319\n",
      "0     228\n",
      "Name: label, dtype: int64\n",
      "y_test:\n",
      "0    14\n",
      "Name: label, dtype: int64\n",
      "Model XGB, Predictions: [0 1], [11  3]\n",
      "Only one class present in y_true. ROC AUC score is not defined in that case. Setting AUC score to -1.\n",
      "Calculating SHAP values\n"
     ]
    },
    {
     "name": "stderr",
     "output_type": "stream",
     "text": [
      "ntree_limit is deprecated, use `iteration_range` or model slicing instead.\n"
     ]
    },
    {
     "name": "stdout",
     "output_type": "stream",
     "text": [
      "y_train:\n",
      "1    1319\n",
      "0     228\n",
      "Name: label, dtype: int64\n",
      "y_test:\n",
      "0    14\n",
      "Name: label, dtype: int64\n",
      "Model XGB, Predictions: [0 1], [11  3]\n",
      "Only one class present in y_true. ROC AUC score is not defined in that case. Setting AUC score to -1.\n",
      "Calculating SHAP values\n"
     ]
    },
    {
     "name": "stderr",
     "output_type": "stream",
     "text": [
      "ntree_limit is deprecated, use `iteration_range` or model slicing instead.\n"
     ]
    },
    {
     "name": "stdout",
     "output_type": "stream",
     "text": [
      "y_train:\n",
      "1    1319\n",
      "0     228\n",
      "Name: label, dtype: int64\n",
      "y_test:\n",
      "0    14\n",
      "Name: label, dtype: int64\n",
      "Model XGB, Predictions: [0 1], [11  3]\n",
      "Only one class present in y_true. ROC AUC score is not defined in that case. Setting AUC score to -1.\n",
      "Calculating SHAP values\n"
     ]
    },
    {
     "name": "stderr",
     "output_type": "stream",
     "text": [
      "ntree_limit is deprecated, use `iteration_range` or model slicing instead.\n"
     ]
    },
    {
     "name": "stdout",
     "output_type": "stream",
     "text": [
      "y_train:\n",
      "1    1319\n",
      "0     228\n",
      "Name: label, dtype: int64\n",
      "y_test:\n",
      "0    14\n",
      "Name: label, dtype: int64\n",
      "Model XGB, Predictions: [0 1], [11  3]\n",
      "Only one class present in y_true. ROC AUC score is not defined in that case. Setting AUC score to -1.\n",
      "Calculating SHAP values\n"
     ]
    },
    {
     "name": "stderr",
     "output_type": "stream",
     "text": [
      "ntree_limit is deprecated, use `iteration_range` or model slicing instead.\n"
     ]
    },
    {
     "name": "stdout",
     "output_type": "stream",
     "text": [
      "y_train:\n",
      "1    1319\n",
      "0     228\n",
      "Name: label, dtype: int64\n",
      "y_test:\n",
      "0    14\n",
      "Name: label, dtype: int64\n",
      "Model XGB, Predictions: [0 1], [11  3]\n",
      "Only one class present in y_true. ROC AUC score is not defined in that case. Setting AUC score to -1.\n",
      "Calculating SHAP values\n"
     ]
    },
    {
     "name": "stderr",
     "output_type": "stream",
     "text": [
      "ntree_limit is deprecated, use `iteration_range` or model slicing instead.\n"
     ]
    },
    {
     "name": "stdout",
     "output_type": "stream",
     "text": [
      "y_train:\n",
      "1    1319\n",
      "0     228\n",
      "Name: label, dtype: int64\n",
      "y_test:\n",
      "0    14\n",
      "Name: label, dtype: int64\n",
      "Model XGB, Predictions: [0 1], [11  3]\n",
      "Only one class present in y_true. ROC AUC score is not defined in that case. Setting AUC score to -1.\n",
      "Calculating SHAP values\n"
     ]
    },
    {
     "name": "stderr",
     "output_type": "stream",
     "text": [
      "ntree_limit is deprecated, use `iteration_range` or model slicing instead.\n"
     ]
    },
    {
     "name": "stdout",
     "output_type": "stream",
     "text": [
      "y_train:\n",
      "1    1319\n",
      "0     228\n",
      "Name: label, dtype: int64\n",
      "y_test:\n",
      "0    14\n",
      "Name: label, dtype: int64\n",
      "Model XGB, Predictions: [0 1], [11  3]\n",
      "Only one class present in y_true. ROC AUC score is not defined in that case. Setting AUC score to -1.\n",
      "Calculating SHAP values\n"
     ]
    },
    {
     "name": "stderr",
     "output_type": "stream",
     "text": [
      "ntree_limit is deprecated, use `iteration_range` or model slicing instead.\n"
     ]
    },
    {
     "name": "stdout",
     "output_type": "stream",
     "text": [
      "XGB accuracy over 10 rounds: 0.7857142857142857\n",
      "Model evaluation metrics for XGB:\n",
      "Precision: 0.0\n",
      "Recall: 1.0\n",
      "F1-score: 0.0\n",
      "AUC score: -1.0\n",
      "\n",
      "\n",
      "WESAD PHASES TSST --------------------------------------------------\n",
      "y_train:\n",
      "1    1319\n",
      "0     228\n",
      "Name: label, dtype: int64\n",
      "y_test:\n",
      "1    13\n",
      "0     1\n",
      "Name: label, dtype: int64\n",
      "Model XGB, Predictions: [0 1], [5 9]\n",
      "Calculating SHAP values\n",
      "y_train:\n",
      "1    1319\n",
      "0     228\n",
      "Name: label, dtype: int64\n",
      "y_test:\n",
      "1    13\n",
      "0     1\n",
      "Name: label, dtype: int64\n",
      "Model XGB, Predictions: [0 1], [5 9]\n",
      "Calculating SHAP values\n"
     ]
    },
    {
     "name": "stderr",
     "output_type": "stream",
     "text": [
      "ntree_limit is deprecated, use `iteration_range` or model slicing instead.\n"
     ]
    },
    {
     "name": "stdout",
     "output_type": "stream",
     "text": [
      "y_train:\n",
      "1    1319\n",
      "0     228\n",
      "Name: label, dtype: int64\n",
      "y_test:\n",
      "1    13\n",
      "0     1\n",
      "Name: label, dtype: int64\n",
      "Model XGB, Predictions: [0 1], [5 9]\n",
      "Calculating SHAP values\n"
     ]
    },
    {
     "name": "stderr",
     "output_type": "stream",
     "text": [
      "ntree_limit is deprecated, use `iteration_range` or model slicing instead.\n"
     ]
    },
    {
     "name": "stdout",
     "output_type": "stream",
     "text": [
      "y_train:\n",
      "1    1319\n",
      "0     228\n",
      "Name: label, dtype: int64\n",
      "y_test:\n",
      "1    13\n",
      "0     1\n",
      "Name: label, dtype: int64\n",
      "Model XGB, Predictions: [0 1], [5 9]\n",
      "Calculating SHAP values\n"
     ]
    },
    {
     "name": "stderr",
     "output_type": "stream",
     "text": [
      "ntree_limit is deprecated, use `iteration_range` or model slicing instead.\n"
     ]
    },
    {
     "name": "stdout",
     "output_type": "stream",
     "text": [
      "y_train:\n",
      "1    1319\n",
      "0     228\n",
      "Name: label, dtype: int64\n",
      "y_test:\n",
      "1    13\n",
      "0     1\n",
      "Name: label, dtype: int64\n",
      "Model XGB, Predictions: [0 1], [5 9]\n",
      "Calculating SHAP values\n"
     ]
    },
    {
     "name": "stderr",
     "output_type": "stream",
     "text": [
      "ntree_limit is deprecated, use `iteration_range` or model slicing instead.\n"
     ]
    },
    {
     "name": "stdout",
     "output_type": "stream",
     "text": [
      "y_train:\n",
      "1    1319\n",
      "0     228\n",
      "Name: label, dtype: int64\n",
      "y_test:\n",
      "1    13\n",
      "0     1\n",
      "Name: label, dtype: int64\n",
      "Model XGB, Predictions: [0 1], [5 9]\n",
      "Calculating SHAP values\n"
     ]
    },
    {
     "name": "stderr",
     "output_type": "stream",
     "text": [
      "ntree_limit is deprecated, use `iteration_range` or model slicing instead.\n"
     ]
    },
    {
     "name": "stdout",
     "output_type": "stream",
     "text": [
      "y_train:\n",
      "1    1319\n",
      "0     228\n",
      "Name: label, dtype: int64\n",
      "y_test:\n",
      "1    13\n",
      "0     1\n",
      "Name: label, dtype: int64\n",
      "Model XGB, Predictions: [0 1], [5 9]\n",
      "Calculating SHAP values\n"
     ]
    },
    {
     "name": "stderr",
     "output_type": "stream",
     "text": [
      "ntree_limit is deprecated, use `iteration_range` or model slicing instead.\n"
     ]
    },
    {
     "name": "stdout",
     "output_type": "stream",
     "text": [
      "y_train:\n",
      "1    1319\n",
      "0     228\n",
      "Name: label, dtype: int64\n",
      "y_test:\n",
      "1    13\n",
      "0     1\n",
      "Name: label, dtype: int64\n",
      "Model XGB, Predictions: [0 1], [5 9]\n",
      "Calculating SHAP values\n"
     ]
    },
    {
     "name": "stderr",
     "output_type": "stream",
     "text": [
      "ntree_limit is deprecated, use `iteration_range` or model slicing instead.\n"
     ]
    },
    {
     "name": "stdout",
     "output_type": "stream",
     "text": [
      "y_train:\n",
      "1    1319\n",
      "0     228\n",
      "Name: label, dtype: int64\n",
      "y_test:\n",
      "1    13\n",
      "0     1\n",
      "Name: label, dtype: int64\n",
      "Model XGB, Predictions: [0 1], [5 9]\n",
      "Calculating SHAP values\n"
     ]
    },
    {
     "name": "stderr",
     "output_type": "stream",
     "text": [
      "ntree_limit is deprecated, use `iteration_range` or model slicing instead.\n"
     ]
    },
    {
     "name": "stdout",
     "output_type": "stream",
     "text": [
      "y_train:\n",
      "1    1319\n",
      "0     228\n",
      "Name: label, dtype: int64\n",
      "y_test:\n",
      "1    13\n",
      "0     1\n",
      "Name: label, dtype: int64\n",
      "Model XGB, Predictions: [0 1], [5 9]\n",
      "Calculating SHAP values\n"
     ]
    },
    {
     "name": "stderr",
     "output_type": "stream",
     "text": [
      "ntree_limit is deprecated, use `iteration_range` or model slicing instead.\n"
     ]
    },
    {
     "name": "stdout",
     "output_type": "stream",
     "text": [
      "XGB accuracy over 10 rounds: 0.7142857142857143\n",
      "Model evaluation metrics for XGB:\n",
      "Precision: 1.0\n",
      "Recall: 0.6923076923076923\n",
      "F1-score: 0.8181818181818181\n",
      "AUC score: 0.8461538461538461\n",
      "\n",
      "\n",
      "WESAD PHASES Medi_1 --------------------------------------------------\n",
      "y_train:\n",
      "1    1319\n",
      "0     228\n",
      "Name: label, dtype: int64\n",
      "y_test:\n",
      "0    13\n",
      "1     1\n",
      "Name: label, dtype: int64\n",
      "Model XGB, Predictions: [0 1], [8 6]\n",
      "Calculating SHAP values\n"
     ]
    },
    {
     "name": "stderr",
     "output_type": "stream",
     "text": [
      "ntree_limit is deprecated, use `iteration_range` or model slicing instead.\n"
     ]
    },
    {
     "name": "stdout",
     "output_type": "stream",
     "text": [
      "y_train:\n",
      "1    1319\n",
      "0     228\n",
      "Name: label, dtype: int64\n",
      "y_test:\n",
      "0    13\n",
      "1     1\n",
      "Name: label, dtype: int64\n",
      "Model XGB, Predictions: [0 1], [8 6]\n",
      "Calculating SHAP values\n"
     ]
    },
    {
     "name": "stderr",
     "output_type": "stream",
     "text": [
      "ntree_limit is deprecated, use `iteration_range` or model slicing instead.\n"
     ]
    },
    {
     "name": "stdout",
     "output_type": "stream",
     "text": [
      "y_train:\n",
      "1    1319\n",
      "0     228\n",
      "Name: label, dtype: int64\n",
      "y_test:\n",
      "0    13\n",
      "1     1\n",
      "Name: label, dtype: int64\n",
      "Model XGB, Predictions: [0 1], [8 6]\n",
      "Calculating SHAP values\n"
     ]
    },
    {
     "name": "stderr",
     "output_type": "stream",
     "text": [
      "ntree_limit is deprecated, use `iteration_range` or model slicing instead.\n"
     ]
    },
    {
     "name": "stdout",
     "output_type": "stream",
     "text": [
      "y_train:\n",
      "1    1319\n",
      "0     228\n",
      "Name: label, dtype: int64\n",
      "y_test:\n",
      "0    13\n",
      "1     1\n",
      "Name: label, dtype: int64\n",
      "Model XGB, Predictions: [0 1], [8 6]\n",
      "Calculating SHAP values\n"
     ]
    },
    {
     "name": "stderr",
     "output_type": "stream",
     "text": [
      "ntree_limit is deprecated, use `iteration_range` or model slicing instead.\n"
     ]
    },
    {
     "name": "stdout",
     "output_type": "stream",
     "text": [
      "y_train:\n",
      "1    1319\n",
      "0     228\n",
      "Name: label, dtype: int64\n",
      "y_test:\n",
      "0    13\n",
      "1     1\n",
      "Name: label, dtype: int64\n",
      "Model XGB, Predictions: [0 1], [8 6]\n",
      "Calculating SHAP values\n"
     ]
    },
    {
     "name": "stderr",
     "output_type": "stream",
     "text": [
      "ntree_limit is deprecated, use `iteration_range` or model slicing instead.\n"
     ]
    },
    {
     "name": "stdout",
     "output_type": "stream",
     "text": [
      "y_train:\n",
      "1    1319\n",
      "0     228\n",
      "Name: label, dtype: int64\n",
      "y_test:\n",
      "0    13\n",
      "1     1\n",
      "Name: label, dtype: int64\n",
      "Model XGB, Predictions: [0 1], [8 6]\n",
      "Calculating SHAP values\n"
     ]
    },
    {
     "name": "stderr",
     "output_type": "stream",
     "text": [
      "ntree_limit is deprecated, use `iteration_range` or model slicing instead.\n"
     ]
    },
    {
     "name": "stdout",
     "output_type": "stream",
     "text": [
      "y_train:\n",
      "1    1319\n",
      "0     228\n",
      "Name: label, dtype: int64\n",
      "y_test:\n",
      "0    13\n",
      "1     1\n",
      "Name: label, dtype: int64\n",
      "Model XGB, Predictions: [0 1], [8 6]\n",
      "Calculating SHAP values\n"
     ]
    },
    {
     "name": "stderr",
     "output_type": "stream",
     "text": [
      "ntree_limit is deprecated, use `iteration_range` or model slicing instead.\n"
     ]
    },
    {
     "name": "stdout",
     "output_type": "stream",
     "text": [
      "y_train:\n",
      "1    1319\n",
      "0     228\n",
      "Name: label, dtype: int64\n",
      "y_test:\n",
      "0    13\n",
      "1     1\n",
      "Name: label, dtype: int64\n",
      "Model XGB, Predictions: [0 1], [8 6]\n",
      "Calculating SHAP values\n"
     ]
    },
    {
     "name": "stderr",
     "output_type": "stream",
     "text": [
      "ntree_limit is deprecated, use `iteration_range` or model slicing instead.\n"
     ]
    },
    {
     "name": "stdout",
     "output_type": "stream",
     "text": [
      "y_train:\n",
      "1    1319\n",
      "0     228\n",
      "Name: label, dtype: int64\n",
      "y_test:\n",
      "0    13\n",
      "1     1\n",
      "Name: label, dtype: int64\n",
      "Model XGB, Predictions: [0 1], [8 6]\n",
      "Calculating SHAP values\n"
     ]
    },
    {
     "name": "stderr",
     "output_type": "stream",
     "text": [
      "ntree_limit is deprecated, use `iteration_range` or model slicing instead.\n"
     ]
    },
    {
     "name": "stdout",
     "output_type": "stream",
     "text": [
      "y_train:\n",
      "1    1319\n",
      "0     228\n",
      "Name: label, dtype: int64\n",
      "y_test:\n",
      "0    13\n",
      "1     1\n",
      "Name: label, dtype: int64\n",
      "Model XGB, Predictions: [0 1], [8 6]\n",
      "Calculating SHAP values\n"
     ]
    },
    {
     "name": "stderr",
     "output_type": "stream",
     "text": [
      "ntree_limit is deprecated, use `iteration_range` or model slicing instead.\n"
     ]
    },
    {
     "name": "stdout",
     "output_type": "stream",
     "text": [
      "XGB accuracy over 10 rounds: 0.642857142857143\n",
      "Model evaluation metrics for XGB:\n",
      "Precision: 0.16666666666666669\n",
      "Recall: 1.0\n",
      "F1-score: 0.2857142857142857\n",
      "AUC score: 0.8076923076923077\n",
      "\n",
      "\n",
      "WESAD PHASES Fun --------------------------------------------------\n",
      "y_train:\n",
      "1    1319\n",
      "0     228\n",
      "Name: label, dtype: int64\n",
      "y_test:\n",
      "0    14\n",
      "Name: label, dtype: int64\n",
      "Model XGB, Predictions: [0 1], [8 6]\n",
      "Only one class present in y_true. ROC AUC score is not defined in that case. Setting AUC score to -1.\n",
      "Calculating SHAP values\n"
     ]
    },
    {
     "name": "stderr",
     "output_type": "stream",
     "text": [
      "ntree_limit is deprecated, use `iteration_range` or model slicing instead.\n"
     ]
    },
    {
     "name": "stdout",
     "output_type": "stream",
     "text": [
      "y_train:\n",
      "1    1319\n",
      "0     228\n",
      "Name: label, dtype: int64\n",
      "y_test:\n",
      "0    14\n",
      "Name: label, dtype: int64\n",
      "Model XGB, Predictions: [0 1], [8 6]\n",
      "Only one class present in y_true. ROC AUC score is not defined in that case. Setting AUC score to -1.\n",
      "Calculating SHAP values\n"
     ]
    },
    {
     "name": "stderr",
     "output_type": "stream",
     "text": [
      "ntree_limit is deprecated, use `iteration_range` or model slicing instead.\n"
     ]
    },
    {
     "name": "stdout",
     "output_type": "stream",
     "text": [
      "y_train:\n",
      "1    1319\n",
      "0     228\n",
      "Name: label, dtype: int64\n",
      "y_test:\n",
      "0    14\n",
      "Name: label, dtype: int64\n",
      "Model XGB, Predictions: [0 1], [8 6]\n",
      "Only one class present in y_true. ROC AUC score is not defined in that case. Setting AUC score to -1.\n",
      "Calculating SHAP values\n"
     ]
    },
    {
     "name": "stderr",
     "output_type": "stream",
     "text": [
      "ntree_limit is deprecated, use `iteration_range` or model slicing instead.\n"
     ]
    },
    {
     "name": "stdout",
     "output_type": "stream",
     "text": [
      "y_train:\n",
      "1    1319\n",
      "0     228\n",
      "Name: label, dtype: int64\n",
      "y_test:\n",
      "0    14\n",
      "Name: label, dtype: int64\n",
      "Model XGB, Predictions: [0 1], [8 6]\n",
      "Only one class present in y_true. ROC AUC score is not defined in that case. Setting AUC score to -1.\n",
      "Calculating SHAP values\n"
     ]
    },
    {
     "name": "stderr",
     "output_type": "stream",
     "text": [
      "ntree_limit is deprecated, use `iteration_range` or model slicing instead.\n"
     ]
    },
    {
     "name": "stdout",
     "output_type": "stream",
     "text": [
      "y_train:\n",
      "1    1319\n",
      "0     228\n",
      "Name: label, dtype: int64\n",
      "y_test:\n",
      "0    14\n",
      "Name: label, dtype: int64\n",
      "Model XGB, Predictions: [0 1], [8 6]\n",
      "Only one class present in y_true. ROC AUC score is not defined in that case. Setting AUC score to -1.\n",
      "Calculating SHAP values\n"
     ]
    },
    {
     "name": "stderr",
     "output_type": "stream",
     "text": [
      "ntree_limit is deprecated, use `iteration_range` or model slicing instead.\n"
     ]
    },
    {
     "name": "stdout",
     "output_type": "stream",
     "text": [
      "y_train:\n",
      "1    1319\n",
      "0     228\n",
      "Name: label, dtype: int64\n",
      "y_test:\n",
      "0    14\n",
      "Name: label, dtype: int64\n",
      "Model XGB, Predictions: [0 1], [8 6]\n",
      "Only one class present in y_true. ROC AUC score is not defined in that case. Setting AUC score to -1.\n",
      "Calculating SHAP values\n"
     ]
    },
    {
     "name": "stderr",
     "output_type": "stream",
     "text": [
      "ntree_limit is deprecated, use `iteration_range` or model slicing instead.\n"
     ]
    },
    {
     "name": "stdout",
     "output_type": "stream",
     "text": [
      "y_train:\n",
      "1    1319\n",
      "0     228\n",
      "Name: label, dtype: int64\n",
      "y_test:\n",
      "0    14\n",
      "Name: label, dtype: int64\n",
      "Model XGB, Predictions: [0 1], [8 6]\n",
      "Only one class present in y_true. ROC AUC score is not defined in that case. Setting AUC score to -1.\n",
      "Calculating SHAP values\n"
     ]
    },
    {
     "name": "stderr",
     "output_type": "stream",
     "text": [
      "ntree_limit is deprecated, use `iteration_range` or model slicing instead.\n"
     ]
    },
    {
     "name": "stdout",
     "output_type": "stream",
     "text": [
      "y_train:\n",
      "1    1319\n",
      "0     228\n",
      "Name: label, dtype: int64\n",
      "y_test:\n",
      "0    14\n",
      "Name: label, dtype: int64\n",
      "Model XGB, Predictions: [0 1], [8 6]\n",
      "Only one class present in y_true. ROC AUC score is not defined in that case. Setting AUC score to -1.\n",
      "Calculating SHAP values\n"
     ]
    },
    {
     "name": "stderr",
     "output_type": "stream",
     "text": [
      "ntree_limit is deprecated, use `iteration_range` or model slicing instead.\n"
     ]
    },
    {
     "name": "stdout",
     "output_type": "stream",
     "text": [
      "y_train:\n",
      "1    1319\n",
      "0     228\n",
      "Name: label, dtype: int64\n",
      "y_test:\n",
      "0    14\n",
      "Name: label, dtype: int64\n",
      "Model XGB, Predictions: [0 1], [8 6]\n",
      "Only one class present in y_true. ROC AUC score is not defined in that case. Setting AUC score to -1.\n",
      "Calculating SHAP values\n"
     ]
    },
    {
     "name": "stderr",
     "output_type": "stream",
     "text": [
      "ntree_limit is deprecated, use `iteration_range` or model slicing instead.\n"
     ]
    },
    {
     "name": "stdout",
     "output_type": "stream",
     "text": [
      "y_train:\n",
      "1    1319\n",
      "0     228\n",
      "Name: label, dtype: int64\n",
      "y_test:\n",
      "0    14\n",
      "Name: label, dtype: int64\n",
      "Model XGB, Predictions: [0 1], [8 6]\n",
      "Only one class present in y_true. ROC AUC score is not defined in that case. Setting AUC score to -1.\n",
      "Calculating SHAP values\n"
     ]
    },
    {
     "name": "stderr",
     "output_type": "stream",
     "text": [
      "ntree_limit is deprecated, use `iteration_range` or model slicing instead.\n"
     ]
    },
    {
     "name": "stdout",
     "output_type": "stream",
     "text": [
      "XGB accuracy over 10 rounds: 0.5714285714285714\n",
      "Model evaluation metrics for XGB:\n",
      "Precision: 0.0\n",
      "Recall: 1.0\n",
      "F1-score: 0.0\n",
      "AUC score: -1.0\n",
      "\n",
      "\n",
      "WESAD PHASES Medi_2 --------------------------------------------------\n",
      "y_train:\n",
      "1    1319\n",
      "0     228\n",
      "Name: label, dtype: int64\n",
      "y_test:\n",
      "0    13\n",
      "1     1\n",
      "Name: label, dtype: int64\n",
      "Model XGB, Predictions: [0 1], [ 3 11]\n",
      "Calculating SHAP values\n"
     ]
    },
    {
     "name": "stderr",
     "output_type": "stream",
     "text": [
      "ntree_limit is deprecated, use `iteration_range` or model slicing instead.\n"
     ]
    },
    {
     "name": "stdout",
     "output_type": "stream",
     "text": [
      "y_train:\n",
      "1    1319\n",
      "0     228\n",
      "Name: label, dtype: int64\n",
      "y_test:\n",
      "0    13\n",
      "1     1\n",
      "Name: label, dtype: int64\n",
      "Model XGB, Predictions: [0 1], [ 3 11]\n",
      "Calculating SHAP values\n"
     ]
    },
    {
     "name": "stderr",
     "output_type": "stream",
     "text": [
      "ntree_limit is deprecated, use `iteration_range` or model slicing instead.\n"
     ]
    },
    {
     "name": "stdout",
     "output_type": "stream",
     "text": [
      "y_train:\n",
      "1    1319\n",
      "0     228\n",
      "Name: label, dtype: int64\n",
      "y_test:\n",
      "0    13\n",
      "1     1\n",
      "Name: label, dtype: int64\n",
      "Model XGB, Predictions: [0 1], [ 3 11]\n",
      "Calculating SHAP values\n"
     ]
    },
    {
     "name": "stderr",
     "output_type": "stream",
     "text": [
      "ntree_limit is deprecated, use `iteration_range` or model slicing instead.\n"
     ]
    },
    {
     "name": "stdout",
     "output_type": "stream",
     "text": [
      "y_train:\n",
      "1    1319\n",
      "0     228\n",
      "Name: label, dtype: int64\n",
      "y_test:\n",
      "0    13\n",
      "1     1\n",
      "Name: label, dtype: int64\n",
      "Model XGB, Predictions: [0 1], [ 3 11]\n",
      "Calculating SHAP values\n"
     ]
    },
    {
     "name": "stderr",
     "output_type": "stream",
     "text": [
      "ntree_limit is deprecated, use `iteration_range` or model slicing instead.\n"
     ]
    },
    {
     "name": "stdout",
     "output_type": "stream",
     "text": [
      "y_train:\n",
      "1    1319\n",
      "0     228\n",
      "Name: label, dtype: int64\n",
      "y_test:\n",
      "0    13\n",
      "1     1\n",
      "Name: label, dtype: int64\n",
      "Model XGB, Predictions: [0 1], [ 3 11]\n",
      "Calculating SHAP values\n"
     ]
    },
    {
     "name": "stderr",
     "output_type": "stream",
     "text": [
      "ntree_limit is deprecated, use `iteration_range` or model slicing instead.\n"
     ]
    },
    {
     "name": "stdout",
     "output_type": "stream",
     "text": [
      "y_train:\n",
      "1    1319\n",
      "0     228\n",
      "Name: label, dtype: int64\n",
      "y_test:\n",
      "0    13\n",
      "1     1\n",
      "Name: label, dtype: int64\n",
      "Model XGB, Predictions: [0 1], [ 3 11]\n",
      "Calculating SHAP values\n"
     ]
    },
    {
     "name": "stderr",
     "output_type": "stream",
     "text": [
      "ntree_limit is deprecated, use `iteration_range` or model slicing instead.\n"
     ]
    },
    {
     "name": "stdout",
     "output_type": "stream",
     "text": [
      "y_train:\n",
      "1    1319\n",
      "0     228\n",
      "Name: label, dtype: int64\n",
      "y_test:\n",
      "0    13\n",
      "1     1\n",
      "Name: label, dtype: int64\n",
      "Model XGB, Predictions: [0 1], [ 3 11]\n",
      "Calculating SHAP values\n"
     ]
    },
    {
     "name": "stderr",
     "output_type": "stream",
     "text": [
      "ntree_limit is deprecated, use `iteration_range` or model slicing instead.\n"
     ]
    },
    {
     "name": "stdout",
     "output_type": "stream",
     "text": [
      "y_train:\n",
      "1    1319\n",
      "0     228\n",
      "Name: label, dtype: int64\n",
      "y_test:\n",
      "0    13\n",
      "1     1\n",
      "Name: label, dtype: int64\n",
      "Model XGB, Predictions: [0 1], [ 3 11]\n",
      "Calculating SHAP values\n"
     ]
    },
    {
     "name": "stderr",
     "output_type": "stream",
     "text": [
      "ntree_limit is deprecated, use `iteration_range` or model slicing instead.\n"
     ]
    },
    {
     "name": "stdout",
     "output_type": "stream",
     "text": [
      "y_train:\n",
      "1    1319\n",
      "0     228\n",
      "Name: label, dtype: int64\n",
      "y_test:\n",
      "0    13\n",
      "1     1\n",
      "Name: label, dtype: int64\n",
      "Model XGB, Predictions: [0 1], [ 3 11]\n",
      "Calculating SHAP values\n"
     ]
    },
    {
     "name": "stderr",
     "output_type": "stream",
     "text": [
      "ntree_limit is deprecated, use `iteration_range` or model slicing instead.\n"
     ]
    },
    {
     "name": "stdout",
     "output_type": "stream",
     "text": [
      "y_train:\n",
      "1    1319\n",
      "0     228\n",
      "Name: label, dtype: int64\n",
      "y_test:\n",
      "0    13\n",
      "1     1\n",
      "Name: label, dtype: int64\n",
      "Model XGB, Predictions: [0 1], [ 3 11]\n",
      "Calculating SHAP values\n",
      "XGB accuracy over 10 rounds: 0.2857142857142857\n",
      "Model evaluation metrics for XGB:\n",
      "Precision: 0.09090909090909091\n",
      "Recall: 1.0\n",
      "F1-score: 0.16666666666666669\n",
      "AUC score: 0.6153846153846153\n",
      "\n",
      "\n"
     ]
    },
    {
     "name": "stderr",
     "output_type": "stream",
     "text": [
      "ntree_limit is deprecated, use `iteration_range` or model slicing instead.\n"
     ]
    }
   ],
   "source": [
    "# TRAIN ON ASCERTAIN AND TEST ON WESAD\n",
    "importlib.reload(train)\n",
    "importlib.reload(dr_a)\n",
    "importlib.reload(dr_w)\n",
    "importlib.reload(dt)\n",
    "\n",
    "\n",
    "for j, phases_wesad in enumerate(model_phases_wesad):\n",
    "    print(f\"WESAD PHASES {phases_wesad} \" + \"-\"*50)\n",
    "    phases_wesad = [phases_wesad]\n",
    "    x_a, y_a = train.Train_ASCERTAIN.get_ascertain_data(metrics, verbose=False, label_type=asc_label_type, threshold=asc_threshold)\n",
    "    x_b, y_b = train.Train_WESAD.get_wesad_data(metrics, phases_wesad, verbose=False, label_type=wesad_label_type, threshold=threshold)\n",
    "    # drop subjects with noisy data\n",
    "    inds = pd.isnull(x_a).any(axis=1).to_numpy().nonzero()[0]\n",
    "    x_a = x_a.drop(labels=inds, axis=0)\n",
    "    y_a = y_a.drop(labels=inds, axis=0)\n",
    "    \n",
    "    # x = x[x['subject'] != 8.0]\n",
    "    # y = y[y['subject'] != 8.0]\n",
    "    \n",
    "    x_a = x_a.drop([\"phaseId\"], axis=1)\n",
    "    x_b = x_b.drop([\"phaseId\"], axis=1)\n",
    "\n",
    "    # make sure subjects from different datasets aren't labeled with the same index\n",
    "    x_b[\"subject\"] = x_b[\"subject\"] + 500\n",
    "    y_b[\"subject\"] = y_b[\"subject\"] + 500\n",
    "\n",
    "    # print(f\"y_a:\\n{y_a.loc[:, 'label'].value_counts()}\")\n",
    "    # print(f\"y_b:\\n{y_b.loc[:, 'label'].value_counts()}\")\n",
    "\n",
    "    # # 0-1 scaling\n",
    "    # for c in range(3, len(x_a.columns)):\n",
    "    #     data_col = x_a[x_a.columns[c]]\n",
    "    #     data_col = (data_col - data_col.min())/(data_col.max() - data_col.min())\n",
    "    #     x_a[x_a.columns[c]] = data_col\n",
    "    # # 0-1 scaling\n",
    "    # for c in range(3, len(x_b.columns)):\n",
    "    #     data_col = x_b[x_b.columns[c]]\n",
    "    #     data_col = (data_col - data_col.min())/(data_col.max() - data_col.min())\n",
    "    #     x_b[x_b.columns[c]] = data_col\n",
    "\n",
    "    acc_results = {\n",
    "        # \"SVM\": [],\n",
    "        # \"LogReg\": [],\n",
    "        \"XGB\": []\n",
    "    }\n",
    "    reports = {\n",
    "        # \"SVM\": [],\n",
    "        # \"LogReg\": [],\n",
    "        \"XGB\": []\n",
    "    }\n",
    "    num_iters = 10\n",
    "    for _ in range(num_iters):\n",
    "        try:\n",
    "            out = train.Train_Multi_Dataset.train_across_datasets(models, x_a, y_a, x_b, y_b, by_subject=True, save_metrics=True, test_size=test_size, is_resample=False, get_shap_values=True)\n",
    "            for model_name in acc_results:\n",
    "                acc_results[model_name].append(out[model_name][0])\n",
    "                reports[model_name].append(out[model_name][1])\n",
    "        except Exception as e:\n",
    "            print(\"Error in resampling train/test data\")\n",
    "\n",
    "    for model_name in acc_results.keys():\n",
    "        acc = np.mean(acc_results[model_name])\n",
    "        print(f\"{model_name} accuracy over {num_iters} rounds: {acc}\")\n",
    "        if acc > 0:\n",
    "            print(f\"Model evaluation metrics for {model_name}:\")\n",
    "            p = np.mean([report[\"precision\"] for report in reports[model_name]])\n",
    "            r = np.mean([report[\"recall\"] for report in reports[model_name]])\n",
    "            f1 = np.mean([report[\"f1\"] for report in reports[model_name]])\n",
    "            auc = np.mean([report[\"auc\"] for report in reports[model_name]])\n",
    "            report = reports[model_name]\n",
    "            print(f\"Precision: {p}\\nRecall: {r}\\nF1-score: {f1}\\nAUC score: {auc}\")\n",
    "        \n",
    "    print(\"\\n\")"
   ]
  },
  {
   "cell_type": "code",
   "execution_count": null,
   "metadata": {},
   "outputs": [],
   "source": [
    "# TRAIN ON WESAD AND TEST ON ASCERTAIN\n",
    "importlib.reload(train)\n",
    "importlib.reload(dr_a)\n",
    "importlib.reload(dr_w)\n",
    "importlib.reload(dt)\n",
    "\n",
    "\n",
    "for i, phases_wesad in enumerate(model_phases_wesad):\n",
    "        print(f\"WESAD PHASES {i} \" + \"-\"*50)\n",
    "        x_a, y_a = train.Train_WESAD.get_wesad_data(metrics, phases_wesad, verbose=False, label_type=wesad_label_type, threshold=threshold)\n",
    "        x_b, y_b = train.Train_ASCERTAIN.get_ascertain_data(metrics, verbose=False, label_type=asc_label_type, threshold=asc_threshold)\n",
    "        # drop subjects with noisy data\n",
    "        inds = pd.isnull(x_b).any(axis=1).to_numpy().nonzero()[0]\n",
    "        x_b = x_b.drop(labels=inds, axis=0)\n",
    "        y_b = y_b.drop(labels=inds, axis=0)\n",
    "        \n",
    "        x_a = x_a.drop([\"phaseId\"], axis=1)\n",
    "        x_b = x_b.drop([\"phaseId\"], axis=1)\n",
    "\n",
    "        # make sure subjects from different datasets aren't labeled with the same index\n",
    "        x_b[\"subject\"] = x_b[\"subject\"] + 500\n",
    "        y_b[\"subject\"] = y_b[\"subject\"] + 500\n",
    "\n",
    "        # 0-1 scaling\n",
    "        for c in range(3, len(x_a.columns)):\n",
    "            data_col = x_a[x_a.columns[c]]\n",
    "            data_col = (data_col - data_col.min())/(data_col.max() - data_col.min())\n",
    "            x_a[x_a.columns[c]] = data_col\n",
    "        # 0-1 scaling\n",
    "        for c in range(3, len(x_b.columns)):\n",
    "            data_col = x_b[x_b.columns[c]]\n",
    "            data_col = (data_col - data_col.min())/(data_col.max() - data_col.min())\n",
    "            x_b[x_b.columns[c]] = data_col\n",
    "\n",
    "        print(f\"y_a:\\n{y_a.loc[:, 'label'].value_counts()}\")\n",
    "        print(f\"y_b:\\n{y_b.loc[:, 'label'].value_counts()}\")\n",
    "\n",
    "        acc_results = {\n",
    "        \"SVM\": [],\n",
    "        \"LogReg\": [],\n",
    "        \"XGB\": []\n",
    "        }\n",
    "        reports = {\n",
    "        \"SVM\": [],\n",
    "        \"LogReg\": [],\n",
    "        \"XGB\": []\n",
    "        }\n",
    "        num_iters = 10\n",
    "        for _ in range(num_iters):\n",
    "            out = train.Train_Multi_Dataset.train_across_datasets(models, x_a, y_a, x_b, y_b, by_subject=True, save_metrics=True, test_size=test_size, is_resample=True)\n",
    "            for model_name in acc_results:\n",
    "                acc_results[model_name].append(out[model_name][0])\n",
    "                reports[model_name].append(out[model_name][1])\n",
    "\n",
    "        for model_name in acc_results.keys():\n",
    "            acc = np.mean(acc_results[model_name])\n",
    "            print(f\"{model_name} accuracy over {num_iters} rounds: {acc}\")\n",
    "            if acc > 0.6:\n",
    "                p = np.mean([report[\"precision\"] for report in reports[model_name]])\n",
    "                r = np.mean([report[\"recall\"] for report in reports[model_name]])\n",
    "                f1 = np.mean([report[\"f1\"] for report in reports[model_name]])\n",
    "                auc = np.mean([report[\"auc\"] for report in reports[model_name]])\n",
    "                report = reports[model_name]\n",
    "                print(f\"Report:\\nPrecision: {p}\\nRecall: {r}\\nF1-score: {f1}\\nAUC score: {auc}\")\n",
    "        print(\"\\n\")"
   ]
  }
 ],
 "metadata": {
  "kernelspec": {
   "display_name": "Python 3",
   "language": "python",
   "name": "python3"
  },
  "language_info": {
   "codemirror_mode": {
    "name": "ipython",
    "version": 3
   },
   "file_extension": ".py",
   "mimetype": "text/x-python",
   "name": "python",
   "nbconvert_exporter": "python",
   "pygments_lexer": "ipython3",
   "version": "3.7.9"
  },
  "orig_nbformat": 4
 },
 "nbformat": 4,
 "nbformat_minor": 2
}
