{
 "cells": [
  {
   "attachments": {},
   "cell_type": "markdown",
   "metadata": {},
   "source": [
    "### Can we classify each phase as relatively low or high affect for each subject? ###"
   ]
  },
  {
   "cell_type": "code",
   "execution_count": 1,
   "metadata": {},
   "outputs": [
    {
     "name": "stderr",
     "output_type": "stream",
     "text": [
      "c:\\Users\\zhoux\\AppData\\Local\\Programs\\Python\\Python310\\lib\\site-packages\\tqdm\\auto.py:22: TqdmWarning: IProgress not found. Please update jupyter and ipywidgets. See https://ipywidgets.readthedocs.io/en/stable/user_install.html\n",
      "  from .autonotebook import tqdm as notebook_tqdm\n"
     ]
    }
   ],
   "source": [
    "# IMPORTING MODULES\n",
    "import glob\n",
    "import importlib\n",
    "import matplotlib.pyplot as plt\n",
    "import numpy as np\n",
    "import os\n",
    "cvx_path = os.path.abspath(os.path.join('..', '..', 'cvxEDA', 'src'))\n",
    "import pandas as pd\n",
    "import random\n",
    "import scipy.signal as ss\n",
    "import sys\n",
    "module_path = os.path.abspath(os.path.join('..', '..', 'src'))\n",
    "sys.path.append(module_path)\n",
    "\n",
    "import tools.data_reader_popane as dr\n",
    "import tools.display_tools as dt\n",
    "import tools.preprocessing as preprocessing\n",
    "import train\n",
    "\n",
    "from scipy.fft import fft, fftfreq, fftshift\n",
    "from sklearn.tree import DecisionTreeClassifier\n",
    "from sklearn.linear_model import LogisticRegression\n",
    "from sklearn.naive_bayes import GaussianNB\n",
    "from sklearn.svm import SVC\n",
    "from sklearn.metrics import accuracy_score, classification_report, confusion_matrix\n",
    "from sklearn.model_selection import train_test_split, cross_val_score, RepeatedKFold\n",
    "from sklearn.neighbors import KNeighborsClassifier\n",
    "from sklearn.preprocessing import normalize\n",
    "from xgboost import XGBClassifier\n",
    "\n",
    "import cvxopt.solvers\n",
    "cvxopt.solvers.options['show_progress'] = False\n",
    "\n",
    "import warnings\n",
    "warnings.filterwarnings(\n",
    "    \"ignore\", \n",
    "    category=RuntimeWarning\n",
    ")\n"
   ]
  },
  {
   "cell_type": "code",
   "execution_count": 2,
   "metadata": {},
   "outputs": [
    {
     "name": "stderr",
     "output_type": "stream",
     "text": [
      "`use_label_encoder` is deprecated in 1.7.0.\n"
     ]
    }
   ],
   "source": [
    "importlib.reload(train)\n",
    "importlib.reload(dr)\n",
    "importlib.reload(dt)\n",
    "importlib.reload(preprocessing)\n",
    "\n",
    "\n",
    "metrics = [\n",
    "    train.Metrics.BPM, \n",
    "    train.Metrics.RMSSD, \n",
    "    train.Metrics.HF_RR, \n",
    "    train.Metrics.LF_RR, \n",
    "    train.Metrics.IBI, \n",
    "    train.Metrics.SDNN, \n",
    "    train.Metrics.MEAN_SCL, \n",
    "    train.Metrics.SCR_RATE\n",
    "]\n",
    "\n",
    "models = {\n",
    "    \"SVM\": SVC(C=10, gamma=1),  # C=10, gamma=1\n",
    "    # \"KNN\": KNeighborsClassifier(n_neighbors=7),\n",
    "    # \"DT\": DecisionTreeClassifier(),\n",
    "    \"LogReg\": LogisticRegression(max_iter=1000),\n",
    "    # \"Bayes\": GaussianNB(),\n",
    "    \"XGB\": XGBClassifier(use_label_encoder=False, objective=\"binary:logistic\", eval_metric=\"logloss\")\n",
    "}"
   ]
  },
  {
   "cell_type": "code",
   "execution_count": 8,
   "metadata": {},
   "outputs": [
    {
     "name": "stdout",
     "output_type": "stream",
     "text": [
      "Study1 --------------------\n"
     ]
    },
    {
     "name": "stderr",
     "output_type": "stream",
     "text": [
      "In a future version of pandas all arguments of DataFrame.any and Series.any will be keyword-only.\n"
     ]
    },
    {
     "name": "stdout",
     "output_type": "stream",
     "text": [
      "1    215\n",
      "0    199\n",
      "Name: label, dtype: int64\n",
      "\n",
      "SVM accuracy over 10 rounds: 0.3027146130794994\n",
      "\n",
      "LogReg accuracy over 10 rounds: 0.48103472589458834\n",
      "\n",
      "XGB accuracy over 10 rounds: 0.4790490040542923\n",
      "\n",
      "\n",
      "\n",
      "Study2 --------------------\n"
     ]
    },
    {
     "name": "stderr",
     "output_type": "stream",
     "text": [
      "In a future version of pandas all arguments of DataFrame.any and Series.any will be keyword-only.\n"
     ]
    },
    {
     "name": "stdout",
     "output_type": "stream",
     "text": [
      "1    272\n",
      "0    264\n",
      "Name: label, dtype: int64\n",
      "\n",
      "SVM accuracy over 10 rounds: 0.3382187085066832\n",
      "\n",
      "LogReg accuracy over 10 rounds: 0.5397629796363974\n",
      "\n",
      "XGB accuracy over 10 rounds: 0.4753946802143004\n",
      "\n",
      "\n",
      "\n",
      "Study3 --------------------\n"
     ]
    },
    {
     "name": "stderr",
     "output_type": "stream",
     "text": [
      "In a future version of pandas all arguments of DataFrame.any and Series.any will be keyword-only.\n"
     ]
    },
    {
     "name": "stdout",
     "output_type": "stream",
     "text": [
      "1    220\n",
      "0    197\n",
      "Name: label, dtype: int64\n",
      "\n",
      "SVM accuracy over 10 rounds: 0.3999136259474705\n",
      "\n",
      "LogReg accuracy over 10 rounds: 0.5106575004406839\n",
      "\n",
      "XGB accuracy over 10 rounds: 0.42749779658029263\n",
      "\n",
      "\n",
      "\n",
      "Study5 --------------------\n"
     ]
    },
    {
     "name": "stderr",
     "output_type": "stream",
     "text": [
      "In a future version of pandas all arguments of DataFrame.any and Series.any will be keyword-only.\n"
     ]
    },
    {
     "name": "stdout",
     "output_type": "stream",
     "text": [
      "1    314\n",
      "0    275\n",
      "Name: label, dtype: int64\n",
      "\n",
      "SVM accuracy over 10 rounds: 0.31797465432188765\n",
      "\n",
      "LogReg accuracy over 10 rounds: 0.5103721659254938\n",
      "\n",
      "XGB accuracy over 10 rounds: 0.5343412067750479\n",
      "\n",
      "\n",
      "\n"
     ]
    }
   ],
   "source": [
    "# STUDY 1\n",
    "importlib.reload(train)\n",
    "importlib.reload(dr)\n",
    "importlib.reload(dt)\n",
    "importlib.reload(preprocessing)\n",
    "\n",
    "studies = [\n",
    "    \"Study1\",\n",
    "    \"Study2\",\n",
    "    \"Study3\",\n",
    "    \"Study5\"\n",
    "]\n",
    "phases = [\n",
    "    dr.Study1.ALL,\n",
    "    dr.Study2.ALL,\n",
    "    dr.Study3.ALL,\n",
    "    dr.Study5.ALL\n",
    "]\n",
    "label_type = \"affect\"\n",
    "\n",
    "for i, study in enumerate(studies):\n",
    "    print(f\"{study} --------------------\")\n",
    "    x, y = train.Train_POPANE.get_popane_data(study, metrics, phases[i], verbose=False, label_type=label_type)\n",
    "    inds = pd.isnull(x).any(1).to_numpy().nonzero()[0]\n",
    "    x = x.drop(inds, axis=0)\n",
    "    x = x.drop([\"phaseId\"], axis=1)\n",
    "    y = y.drop(inds, axis=0)\n",
    "\n",
    "    print(y[\"label\"].value_counts())\n",
    "    print(\"\")\n",
    "\n",
    "    # 0-1 scaling\n",
    "    for i in range(2, len(x.columns)):\n",
    "        if x.columns[i] in metrics:\n",
    "            data_col = x[x.columns[i]]\n",
    "            data_col = (data_col - data_col.min())/(data_col.max() - data_col.min())\n",
    "            x[x.columns[i]] = data_col\n",
    "\n",
    "    acc_results = {\n",
    "            \"SVM\": [],\n",
    "            \"LogReg\": [],\n",
    "            \"XGB\": []\n",
    "    }\n",
    "    reports = {\n",
    "            \"SVM\": [],\n",
    "            \"LogReg\": [],\n",
    "            \"XGB\": []\n",
    "    }\n",
    "    num_iters = 10\n",
    "    for _ in range(num_iters):\n",
    "        out = train.train_predict(models, x, y, test_size=0.15, by_subject=False, save_metrics=True, get_shap_values=False)\n",
    "        for model_name in acc_results:\n",
    "            acc_results[model_name].append(out[model_name][0])\n",
    "            reports[model_name].append(out[model_name][1])\n",
    "\n",
    "    for model_name in acc_results.keys():\n",
    "        acc = np.mean(acc_results[model_name])\n",
    "        print(f\"{model_name} accuracy over {num_iters} rounds: {acc}\")\n",
    "        if acc > 0.65:\n",
    "            print(f\"Model evaluation metrics for {model_name}:\")\n",
    "            p = np.mean([report[\"precision\"] for report in reports[model_name]])\n",
    "            r = np.mean([report[\"recall\"] for report in reports[model_name]])\n",
    "            f1 = np.mean([report[\"f1\"] for report in reports[model_name]])\n",
    "            auc = np.mean([report[\"auc\"] for report in reports[model_name]])\n",
    "            report = reports[model_name]\n",
    "            print(f\"Precision: {p}\\nRecall: {r}\\nF1-score: {f1}\\nAUC score: {auc}\")\n",
    "        print(\"\")\n",
    "\n",
    "    print(\"\\n\")"
   ]
  },
  {
   "cell_type": "code",
   "execution_count": 9,
   "metadata": {},
   "outputs": [
    {
     "name": "stderr",
     "output_type": "stream",
     "text": [
      "In a future version of pandas all arguments of DataFrame.any and Series.any will be keyword-only.\n",
      "In a future version of pandas all arguments of DataFrame.any and Series.any will be keyword-only.\n",
      "In a future version of pandas all arguments of DataFrame.any and Series.any will be keyword-only.\n",
      "In a future version of pandas all arguments of DataFrame.any and Series.any will be keyword-only.\n"
     ]
    },
    {
     "name": "stdout",
     "output_type": "stream",
     "text": [
      "1    1021\n",
      "0     935\n",
      "Name: label, dtype: int64\n",
      "\n",
      "SVM accuracy over 10 rounds: 0.37212547344939895\n",
      "\n",
      "LogReg accuracy over 10 rounds: 0.5284400523407256\n",
      "\n",
      "XGB accuracy over 10 rounds: 0.4914417388817869\n",
      "\n"
     ]
    }
   ],
   "source": [
    "# STUDY 1, 2, 3, 5 all together\n",
    "importlib.reload(train)\n",
    "importlib.reload(dr)\n",
    "importlib.reload(dt)\n",
    "importlib.reload(preprocessing)\n",
    "\n",
    "label_type = \"affect\"\n",
    "\n",
    "study = \"Study1\"\n",
    "phases = dr.Study1.ALL\n",
    "\n",
    "x1, y1 = train.Train_POPANE.get_popane_data(study, metrics, phases, verbose=False, label_type=label_type)\n",
    "inds = pd.isnull(x1).any(1).to_numpy().nonzero()[0]\n",
    "x1 = x1.drop(inds, axis=0)\n",
    "y1 = y1.drop(inds, axis=0)\n",
    "\n",
    "study = \"Study2\"\n",
    "phases = dr.Study2.ALL\n",
    "\n",
    "x2, y2 = train.Train_POPANE.get_popane_data(study, metrics, phases, verbose=False, label_type=label_type)\n",
    "inds = pd.isnull(x2).any(1).to_numpy().nonzero()[0]\n",
    "x2 = x2.drop(inds, axis=0)\n",
    "y2 = y2.drop(inds, axis=0)\n",
    "\n",
    "study = \"Study3\"\n",
    "phases = dr.Study3.ALL\n",
    "\n",
    "x3, y3 = train.Train_POPANE.get_popane_data(study, metrics, phases, verbose=False, label_type=label_type)\n",
    "inds = pd.isnull(x3).any(1).to_numpy().nonzero()[0]\n",
    "x3 = x3.drop(inds, axis=0)\n",
    "y3 = y3.drop(inds, axis=0)\n",
    "\n",
    "study = \"Study5\"\n",
    "phases = dr.Study5.ALL\n",
    "\n",
    "x5, y5 = train.Train_POPANE.get_popane_data(study, metrics, phases, verbose=False, label_type=label_type)\n",
    "inds = pd.isnull(x5).any(1).to_numpy().nonzero()[0]\n",
    "x5 = x5.drop(inds, axis=0)\n",
    "y5 = y5.drop(inds, axis=0)\n",
    "\n",
    "# print(x1.shape)\n",
    "# print(x3.shape)\n",
    "# print(x4.shape)\n",
    "# print(x5.shape)\n",
    "\n",
    "x = pd.concat([x1, x2, x3, x5])\n",
    "x = x.drop([\"phaseId\"], axis=1)\n",
    "y = pd.concat([y1, y2, y3, y5])\n",
    "\n",
    "# print(x.head())\n",
    "# print(x.shape)\n",
    "\n",
    "print(y[\"label\"].value_counts())\n",
    "print(\"\")\n",
    "\n",
    "# 0-1 scaling\n",
    "for i in range(2, len(x.columns)):\n",
    "    if x.columns[i] in metrics:\n",
    "        data_col = x[x.columns[i]]\n",
    "        data_col = (data_col - data_col.min())/(data_col.max() - data_col.min())\n",
    "        x[x.columns[i]] = data_col\n",
    "\n",
    "acc_results = {\n",
    "        \"SVM\": [],\n",
    "        \"LogReg\": [],\n",
    "        \"XGB\": []\n",
    "}\n",
    "reports = {\n",
    "        \"SVM\": [],\n",
    "        \"LogReg\": [],\n",
    "        \"XGB\": []\n",
    "}\n",
    "num_iters = 10\n",
    "for _ in range(num_iters):\n",
    "    out = train.train_predict(models, x, y, by_subject=False, save_metrics=True, get_shap_values=False)\n",
    "    for model_name in acc_results:\n",
    "        acc_results[model_name].append(out[model_name][0])\n",
    "        reports[model_name].append(out[model_name][1])\n",
    "\n",
    "for model_name in acc_results.keys():\n",
    "    acc = np.mean(acc_results[model_name])\n",
    "    print(f\"{model_name} accuracy over {num_iters} rounds: {acc}\")\n",
    "    if acc > 0.65:\n",
    "        print(f\"Model evaluation metrics for {model_name}:\")\n",
    "        p = np.mean([report[\"precision\"] for report in reports[model_name]])\n",
    "        r = np.mean([report[\"recall\"] for report in reports[model_name]])\n",
    "        f1 = np.mean([report[\"f1\"] for report in reports[model_name]])\n",
    "        auc = np.mean([report[\"auc\"] for report in reports[model_name]])\n",
    "        report = reports[model_name]\n",
    "        print(f\"Precision: {p}\\nRecall: {r}\\nF1-score: {f1}\\nAUC score: {auc}\")\n",
    "    print(\"\")"
   ]
  }
 ],
 "metadata": {
  "kernelspec": {
   "display_name": "Python 3",
   "language": "python",
   "name": "python3"
  },
  "language_info": {
   "codemirror_mode": {
    "name": "ipython",
    "version": 3
   },
   "file_extension": ".py",
   "mimetype": "text/x-python",
   "name": "python",
   "nbconvert_exporter": "python",
   "pygments_lexer": "ipython3",
   "version": "3.10.9"
  },
  "orig_nbformat": 4,
  "vscode": {
   "interpreter": {
    "hash": "aecf4e853c2a06e9a3d98203b0bfcb89edde136ff484aed399b3da44301ece48"
   }
  }
 },
 "nbformat": 4,
 "nbformat_minor": 2
}
