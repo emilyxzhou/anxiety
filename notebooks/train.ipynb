{
 "cells": [
  {
   "cell_type": "code",
   "execution_count": 2,
   "metadata": {},
   "outputs": [],
   "source": [
    "# IMPORTING MODULES\n",
    "import glob\n",
    "import importlib\n",
    "import matplotlib.pyplot as plt\n",
    "import numpy as np\n",
    "import os\n",
    "module_path = os.path.abspath(os.path.join('..', 'src'))\n",
    "sys.path.append(module_path)\n",
    "import pandas as pd\n",
    "import scipy.signal as ss\n",
    "import sys\n",
    "\n",
    "import tools.data_reader as dr\n",
    "import tools.display_tools as dt\n",
    "import tools.preprocessing as preprocessing\n",
    "\n",
    "from scipy.fft import fft, fftfreq, fftshift\n",
    "from sklearn import svm\n",
    "from sklearn.metrics import accuracy_score, classification_report, confusion_matrix\n",
    "from sklearn.model_selection import train_test_split"
   ]
  },
  {
   "cell_type": "code",
   "execution_count": 22,
   "metadata": {},
   "outputs": [
    {
     "name": "stdout",
     "output_type": "stream",
     "text": [
      "SVM USING bpm -----------------------------------\n",
      "[[2 0]\n",
      " [2 2]]\n",
      "              precision    recall  f1-score   support\n",
      "\n",
      "           0       0.50      1.00      0.67         2\n",
      "           1       1.00      0.50      0.67         4\n",
      "\n",
      "    accuracy                           0.67         6\n",
      "   macro avg       0.75      0.75      0.67         6\n",
      "weighted avg       0.83      0.67      0.67         6\n",
      "\n",
      "SVM USING rmssd -----------------------------------\n",
      "[[2 0]\n",
      " [3 1]]\n",
      "              precision    recall  f1-score   support\n",
      "\n",
      "           0       0.40      1.00      0.57         2\n",
      "           1       1.00      0.25      0.40         4\n",
      "\n",
      "    accuracy                           0.50         6\n",
      "   macro avg       0.70      0.62      0.49         6\n",
      "weighted avg       0.80      0.50      0.46         6\n",
      "\n",
      "SVM USING hf_rr -----------------------------------\n",
      "[[2 0]\n",
      " [4 0]]\n",
      "              precision    recall  f1-score   support\n",
      "\n",
      "           0       0.33      1.00      0.50         2\n",
      "           1       0.00      0.00      0.00         4\n",
      "\n",
      "    accuracy                           0.33         6\n",
      "   macro avg       0.17      0.50      0.25         6\n",
      "weighted avg       0.11      0.33      0.17         6\n",
      "\n",
      "SVM USING lf_rr -----------------------------------\n"
     ]
    },
    {
     "name": "stderr",
     "output_type": "stream",
     "text": [
      "c:\\Users\\zhoux\\AppData\\Local\\Programs\\Python\\Python39\\lib\\site-packages\\sklearn\\metrics\\_classification.py:1334: UndefinedMetricWarning: Precision and F-score are ill-defined and being set to 0.0 in labels with no predicted samples. Use `zero_division` parameter to control this behavior.\n",
      "  _warn_prf(average, modifier, msg_start, len(result))\n",
      "c:\\Users\\zhoux\\AppData\\Local\\Programs\\Python\\Python39\\lib\\site-packages\\sklearn\\metrics\\_classification.py:1334: UndefinedMetricWarning: Precision and F-score are ill-defined and being set to 0.0 in labels with no predicted samples. Use `zero_division` parameter to control this behavior.\n",
      "  _warn_prf(average, modifier, msg_start, len(result))\n",
      "c:\\Users\\zhoux\\AppData\\Local\\Programs\\Python\\Python39\\lib\\site-packages\\sklearn\\metrics\\_classification.py:1334: UndefinedMetricWarning: Precision and F-score are ill-defined and being set to 0.0 in labels with no predicted samples. Use `zero_division` parameter to control this behavior.\n",
      "  _warn_prf(average, modifier, msg_start, len(result))\n"
     ]
    },
    {
     "name": "stdout",
     "output_type": "stream",
     "text": [
      "[[0 2]\n",
      " [0 4]]\n",
      "              precision    recall  f1-score   support\n",
      "\n",
      "           0       0.00      0.00      0.00         2\n",
      "           1       0.67      1.00      0.80         4\n",
      "\n",
      "    accuracy                           0.67         6\n",
      "   macro avg       0.33      0.50      0.40         6\n",
      "weighted avg       0.44      0.67      0.53         6\n",
      "\n",
      "SVM USING mean_SCL -----------------------------------\n"
     ]
    },
    {
     "name": "stderr",
     "output_type": "stream",
     "text": [
      "c:\\Users\\zhoux\\AppData\\Local\\Programs\\Python\\Python39\\lib\\site-packages\\sklearn\\metrics\\_classification.py:1334: UndefinedMetricWarning: Precision and F-score are ill-defined and being set to 0.0 in labels with no predicted samples. Use `zero_division` parameter to control this behavior.\n",
      "  _warn_prf(average, modifier, msg_start, len(result))\n",
      "c:\\Users\\zhoux\\AppData\\Local\\Programs\\Python\\Python39\\lib\\site-packages\\sklearn\\metrics\\_classification.py:1334: UndefinedMetricWarning: Precision and F-score are ill-defined and being set to 0.0 in labels with no predicted samples. Use `zero_division` parameter to control this behavior.\n",
      "  _warn_prf(average, modifier, msg_start, len(result))\n",
      "c:\\Users\\zhoux\\AppData\\Local\\Programs\\Python\\Python39\\lib\\site-packages\\sklearn\\metrics\\_classification.py:1334: UndefinedMetricWarning: Precision and F-score are ill-defined and being set to 0.0 in labels with no predicted samples. Use `zero_division` parameter to control this behavior.\n",
      "  _warn_prf(average, modifier, msg_start, len(result))\n"
     ]
    },
    {
     "name": "stdout",
     "output_type": "stream",
     "text": [
      "[[2 0]\n",
      " [4 0]]\n",
      "              precision    recall  f1-score   support\n",
      "\n",
      "           0       0.33      1.00      0.50         2\n",
      "           1       0.00      0.00      0.00         4\n",
      "\n",
      "    accuracy                           0.33         6\n",
      "   macro avg       0.17      0.50      0.25         6\n",
      "weighted avg       0.11      0.33      0.17         6\n",
      "\n",
      "SVM USING SCR_rate -----------------------------------\n"
     ]
    },
    {
     "name": "stderr",
     "output_type": "stream",
     "text": [
      "c:\\Users\\zhoux\\AppData\\Local\\Programs\\Python\\Python39\\lib\\site-packages\\sklearn\\metrics\\_classification.py:1334: UndefinedMetricWarning: Precision and F-score are ill-defined and being set to 0.0 in labels with no predicted samples. Use `zero_division` parameter to control this behavior.\n",
      "  _warn_prf(average, modifier, msg_start, len(result))\n",
      "c:\\Users\\zhoux\\AppData\\Local\\Programs\\Python\\Python39\\lib\\site-packages\\sklearn\\metrics\\_classification.py:1334: UndefinedMetricWarning: Precision and F-score are ill-defined and being set to 0.0 in labels with no predicted samples. Use `zero_division` parameter to control this behavior.\n",
      "  _warn_prf(average, modifier, msg_start, len(result))\n",
      "c:\\Users\\zhoux\\AppData\\Local\\Programs\\Python\\Python39\\lib\\site-packages\\sklearn\\metrics\\_classification.py:1334: UndefinedMetricWarning: Precision and F-score are ill-defined and being set to 0.0 in labels with no predicted samples. Use `zero_division` parameter to control this behavior.\n",
      "  _warn_prf(average, modifier, msg_start, len(result))\n"
     ]
    },
    {
     "name": "stdout",
     "output_type": "stream",
     "text": [
      "[[1 1]\n",
      " [0 4]]\n",
      "              precision    recall  f1-score   support\n",
      "\n",
      "           0       1.00      0.50      0.67         2\n",
      "           1       0.80      1.00      0.89         4\n",
      "\n",
      "    accuracy                           0.83         6\n",
      "   macro avg       0.90      0.75      0.78         6\n",
      "weighted avg       0.87      0.83      0.81         6\n",
      "\n"
     ]
    }
   ],
   "source": [
    "# SVM\n",
    "importlib.reload(preprocessing)\n",
    "importlib.reload(dr)\n",
    "importlib.reload(dt)\n",
    "\n",
    "import csv\n",
    "\n",
    "metrics_folder = os.path.join(dr.Paths.DATA_DIR, \"metrics\")\n",
    "metrics = [\"bpm\", \"rmssd\", \"hf_rr\", \"lf_rr\", \"mean_SCL\", \"SCR_rate\"]\n",
    "phases = [\n",
    "    dr.Phases.BASE_REST, dr.Phases.BASE_SPEECH,\n",
    "    dr.Phases.BUG_RELAX, dr.Phases.BUG_ANTICIPATE, dr.Phases.BUG_EXPOSURE, dr.Phases.BUG_BREAK, dr.Phases.BUG_REFLECT,\n",
    "    dr.Phases.SPEECH_RELAX, dr.Phases.SPEECH_ANTICIPATE, dr.Phases.SPEECH_EXPOSURE, dr.Phases.SPEECH_BREAK, dr.Phases.SPEECH_REFLECT\n",
    "]\n",
    "\n",
    "clf = svm.SVC(kernel='poly', degree=8)\n",
    "\n",
    "for metric in metrics:\n",
    "    print(f\"SVM USING {metric} -----------------------------------\")\n",
    "    ha = []\n",
    "    la = []\n",
    "    for phase in phases:\n",
    "        file = os.path.join(metrics_folder, f\"{metric}_{phase}_ha.csv\")\n",
    "        arr = pd.read_csv(file, header=None, index_col=[0]).to_numpy()\n",
    "        arr = arr[1:, 1:]\n",
    "        # avg = np.nanmean(arr, axis=1)\n",
    "        # ha.append(avg)\n",
    "        arr = np.nan_to_num(arr)\n",
    "        ha.append(arr)\n",
    "\n",
    "        file = os.path.join(metrics_folder, f\"{metric}_{phase}_la.csv\")\n",
    "        arr = pd.read_csv(file, header=None, index_col=[0]).to_numpy()\n",
    "        arr = arr[1:, 1:]\n",
    "        # avg = np.nanmean(arr, axis=1)\n",
    "        # la.append(avg)\n",
    "        arr = np.nan_to_num(arr)\n",
    "        la.append(arr)\n",
    "\n",
    "    # ha_arr = np.asarray(ha).transpose()\n",
    "    # la_arr = np.asarray(la).transpose()\n",
    "    ha_arr = np.hstack(ha)\n",
    "    la_arr = np.hstack(la)\n",
    "\n",
    "    max_len = np.max([ha_arr.shape[1], la_arr.shape[1]])\n",
    "    ha_arr = np.pad(ha_arr, ((0, 0), (0, max_len - ha_arr.shape[1])), \"constant\", constant_values=0.0)\n",
    "    la_arr = np.pad(la_arr, ((0, 0), (0, max_len - la_arr.shape[1])), \"constant\", constant_values=0.0)\n",
    "\n",
    "    x = np.vstack([ha_arr, la_arr])\n",
    "    y = np.asarray([1 for _ in range(ha_arr.shape[0])] + [0 for _ in range(ha_arr.shape[0])])\n",
    "\n",
    "    x_train, x_test, y_train, y_test = train_test_split(x, y, test_size=0.1, random_state=16)\n",
    "\n",
    "    clf.fit(x_train, y_train)\n",
    "\n",
    "    preds = clf.predict(x_test)\n",
    "    actual = y_test\n",
    "\n",
    "    print(confusion_matrix(actual, preds))\n",
    "    print(classification_report(actual, preds))"
   ]
  },
  {
   "cell_type": "code",
   "execution_count": 25,
   "metadata": {},
   "outputs": [
    {
     "name": "stdout",
     "output_type": "stream",
     "text": [
      "[]\n"
     ]
    },
    {
     "ename": "IndexError",
     "evalue": "list index out of range",
     "output_type": "error",
     "traceback": [
      "\u001b[1;31m---------------------------------------------------------------------------\u001b[0m",
      "\u001b[1;31mIndexError\u001b[0m                                Traceback (most recent call last)",
      "Cell \u001b[1;32mIn [25], line 35\u001b[0m\n\u001b[0;32m     33\u001b[0m ha_fft \u001b[39m=\u001b[39m [preprocessing\u001b[39m.\u001b[39mcalculate_fft(data) \u001b[39mfor\u001b[39;00m data \u001b[39min\u001b[39;00m ha_data]\n\u001b[0;32m     34\u001b[0m la_fft \u001b[39m=\u001b[39m [preprocessing\u001b[39m.\u001b[39mcalculate_fft(data) \u001b[39mfor\u001b[39;00m data \u001b[39min\u001b[39;00m la_data]\n\u001b[1;32m---> 35\u001b[0m dt\u001b[39m.\u001b[39mplot_fft_data(ha_fft[\u001b[39m0\u001b[39;49m])\n",
      "\u001b[1;31mIndexError\u001b[0m: list index out of range"
     ]
    }
   ],
   "source": [
    "# SVM\n",
    "importlib.reload(preprocessing)\n",
    "importlib.reload(dr)\n",
    "importlib.reload(dt)\n",
    "\n",
    "import csv\n",
    "\n",
    "phases = [\n",
    "    dr.Phases.BASE_REST, dr.Phases.BASE_SPEECH,\n",
    "    dr.Phases.BUG_RELAX, dr.Phases.BUG_ANTICIPATE, dr.Phases.BUG_EXPOSURE, dr.Phases.BUG_BREAK, dr.Phases.BUG_REFLECT,\n",
    "    dr.Phases.SPEECH_RELAX, dr.Phases.SPEECH_ANTICIPATE, dr.Phases.SPEECH_EXPOSURE, dr.Phases.SPEECH_BREAK, dr.Phases.SPEECH_REFLECT\n",
    "]\n",
    "\n",
    "convert_sr = False\n",
    "tasks = [dr.Tasks.BASELINE, dr.Tasks.BUGS, dr.Tasks.SPEAKING]\n",
    "data_type = dr.DataTypes.ECG\n",
    "fs = preprocessing.FS_DICT[data_type]\n",
    "f_dim = preprocessing.DATA_TYPE_DIMENSIONS[data_type]\n",
    "\n",
    "ha = []\n",
    "la = []\n",
    "for task in tasks:\n",
    "    if task == dr.Tasks.BASELINE:\n",
    "        phases = [dr.Phases.BASE_REST, dr.Phases.BASE_SPEECH]\n",
    "    elif task == dr.Tasks.BUGS:\n",
    "        phases = [dr.Phases.BUG_RELAX, dr.Phases.BUG_ANTICIPATE, dr.Phases.BUG_EXPOSURE, dr.Phases.BUG_BREAK, dr.Phases.BUG_REFLECT]\n",
    "    else:\n",
    "        phases = [dr.Phases.SPEECH_RELAX, dr.Phases.SPEECH_ANTICIPATE, dr.Phases.SPEECH_EXPOSURE, dr.Phases.SPEECH_BREAK, dr.Phases.SPEECH_REFLECT]\n",
    "\n",
    "    for phase in phases:\n",
    "        ha_data, la_data = preprocessing.load_data(task, data_type, phase, convert_sr)\n",
    "        ha_fft = [preprocessing.calculate_fft(data) for data in ha_data]\n",
    "        la_fft = [preprocessing.calculate_fft(data) for data in la_data]\n",
    "        dt.plot_fft_data(ha_fft[0])"
   ]
  }
 ],
 "metadata": {
  "kernelspec": {
   "display_name": "Python 3.9.0 64-bit",
   "language": "python",
   "name": "python3"
  },
  "language_info": {
   "codemirror_mode": {
    "name": "ipython",
    "version": 3
   },
   "file_extension": ".py",
   "mimetype": "text/x-python",
   "name": "python",
   "nbconvert_exporter": "python",
   "pygments_lexer": "ipython3",
   "version": "3.9.0"
  },
  "orig_nbformat": 4,
  "vscode": {
   "interpreter": {
    "hash": "0877744b127b3e06bbb46a4d58ff9f96d2144cab151d4d0cf00260a00e80ed7c"
   }
  }
 },
 "nbformat": 4,
 "nbformat_minor": 2
}
